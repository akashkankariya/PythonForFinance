{
 "cells": [
  {
   "cell_type": "markdown",
   "id": "bcf1b1d2",
   "metadata": {},
   "source": [
    "# Functions\n",
    "- achieve reusablity\n",
    "- organized code"
   ]
  },
  {
   "cell_type": "code",
   "execution_count": null,
   "id": "b679f410",
   "metadata": {},
   "outputs": [],
   "source": [
    "# is prime code "
   ]
  },
  {
   "cell_type": "code",
   "execution_count": null,
   "id": "cbe2de88",
   "metadata": {},
   "outputs": [],
   "source": [
    "# print all prime numbers from 1 to 100;"
   ]
  },
  {
   "cell_type": "code",
   "execution_count": 71,
   "id": "3f9d7d53",
   "metadata": {},
   "outputs": [
    {
     "name": "stdout",
     "output_type": "stream",
     "text": [
      "2, 3, 5, 7, 11, 13, 17, 19, 23, 29, 31, 37, 41, 43, 47, 53, 59, 61, 67, 71, 73, 79, 83, 89, 97, "
     ]
    }
   ],
   "source": [
    "for i in range(2,101):\n",
    "    isPrime=True\n",
    "    for j in range(2,i):\n",
    "        if(i%j==0):\n",
    "            isPrime=False\n",
    "            break\n",
    "    if (isPrime==True):\n",
    "        print(i,end=', ')"
   ]
  },
  {
   "cell_type": "code",
   "execution_count": null,
   "id": "876767b7",
   "metadata": {},
   "outputs": [],
   "source": [
    "# another way "
   ]
  },
  {
   "cell_type": "code",
   "execution_count": 73,
   "id": "ea74bf7a",
   "metadata": {},
   "outputs": [],
   "source": [
    "def isPrime(number):\n",
    "    for i in range(2,number):\n",
    "        if(number%i==0):\n",
    "            return False\n",
    "    return True"
   ]
  },
  {
   "cell_type": "code",
   "execution_count": 74,
   "id": "a0ae1b27",
   "metadata": {},
   "outputs": [
    {
     "name": "stdout",
     "output_type": "stream",
     "text": [
      "2, 3, 5, 7, 11, 13, 17, 19, 23, 29, 31, 37, 41, 43, 47, 53, 59, 61, 67, 71, 73, 79, 83, 89, 97, "
     ]
    }
   ],
   "source": [
    "for i in range(2,101):\n",
    "    if(isPrime(i)):\n",
    "        print(i,end=', ')"
   ]
  },
  {
   "cell_type": "code",
   "execution_count": null,
   "id": "6fa01d6c",
   "metadata": {},
   "outputs": [],
   "source": []
  },
  {
   "cell_type": "code",
   "execution_count": null,
   "id": "e38d18e2",
   "metadata": {},
   "outputs": [],
   "source": [
    "# add two numbers and then add their multiplication to the sum "
   ]
  },
  {
   "cell_type": "code",
   "execution_count": 75,
   "id": "5b158631",
   "metadata": {},
   "outputs": [
    {
     "name": "stdout",
     "output_type": "stream",
     "text": [
      "Enter a number: 3\n",
      "Enter a number: 2\n",
      "11\n"
     ]
    }
   ],
   "source": [
    "a=int(input('Enter a number: '))\n",
    "b=int(input('Enter a number: '))\n",
    "print(a+b+(a*b))"
   ]
  },
  {
   "cell_type": "code",
   "execution_count": 76,
   "id": "451a197c",
   "metadata": {},
   "outputs": [],
   "source": [
    "def customfunction(a,b):\n",
    "    return a+b+(a*b)"
   ]
  },
  {
   "cell_type": "code",
   "execution_count": 77,
   "id": "66e508b8",
   "metadata": {},
   "outputs": [
    {
     "name": "stdout",
     "output_type": "stream",
     "text": [
      "11\n"
     ]
    }
   ],
   "source": [
    "print(customfunction(3,2))"
   ]
  },
  {
   "cell_type": "code",
   "execution_count": 78,
   "id": "e50714e7",
   "metadata": {},
   "outputs": [
    {
     "name": "stdout",
     "output_type": "stream",
     "text": [
      "41\n"
     ]
    }
   ],
   "source": [
    "print(customfunction(5,6))"
   ]
  },
  {
   "cell_type": "markdown",
   "id": "be7cce16",
   "metadata": {},
   "source": [
    "# User defined function"
   ]
  },
  {
   "cell_type": "code",
   "execution_count": 79,
   "id": "3b07c611",
   "metadata": {},
   "outputs": [
    {
     "name": "stdout",
     "output_type": "stream",
     "text": [
      "Enter a Name: Parth\n",
      "Enter a Name: Kartik\n",
      "Enter a Name: Akashj\n",
      "Enter a Name: Rajan\n",
      "Enter a Name: Rushil\n"
     ]
    }
   ],
   "source": [
    "# greeting people \n",
    "names=[]\n",
    "for i in range(1,6):\n",
    "    name=input('Enter a Name: ')\n",
    "    names.append(name)"
   ]
  },
  {
   "cell_type": "code",
   "execution_count": 80,
   "id": "54fda4a3",
   "metadata": {},
   "outputs": [
    {
     "name": "stdout",
     "output_type": "stream",
     "text": [
      "['Parth', 'Kartik', 'Akashj', 'Rajan', 'Rushil']\n"
     ]
    }
   ],
   "source": [
    "print(names)"
   ]
  },
  {
   "cell_type": "code",
   "execution_count": 81,
   "id": "ba3ec591",
   "metadata": {},
   "outputs": [
    {
     "name": "stdout",
     "output_type": "stream",
     "text": [
      "Parth Good Morning\n"
     ]
    }
   ],
   "source": [
    "print(names[0],'Good Morning')"
   ]
  },
  {
   "cell_type": "code",
   "execution_count": 82,
   "id": "d1b7bd7a",
   "metadata": {},
   "outputs": [
    {
     "name": "stdout",
     "output_type": "stream",
     "text": [
      "Kartik Good Morning\n"
     ]
    }
   ],
   "source": [
    "print(names[1],'Good Morning')"
   ]
  },
  {
   "cell_type": "code",
   "execution_count": 83,
   "id": "1da742b3",
   "metadata": {},
   "outputs": [
    {
     "name": "stdout",
     "output_type": "stream",
     "text": [
      "Parth Good Morning\n",
      "Kartik Good Morning\n",
      "Akashj Good Morning\n",
      "Rajan Good Morning\n",
      "Rushil Good Morning\n"
     ]
    }
   ],
   "source": [
    "for name in names:\n",
    "    print(name,'Good Morning')"
   ]
  },
  {
   "cell_type": "code",
   "execution_count": 85,
   "id": "c151aab9",
   "metadata": {},
   "outputs": [],
   "source": [
    "namelist2=['Rekha','Hema','Jaya','Prachi']"
   ]
  },
  {
   "cell_type": "code",
   "execution_count": 86,
   "id": "a0b262d3",
   "metadata": {},
   "outputs": [
    {
     "name": "stdout",
     "output_type": "stream",
     "text": [
      "Rekha Good Morning\n",
      "Hema Good Morning\n",
      "Jaya Good Morning\n",
      "Prachi Good Morning\n"
     ]
    }
   ],
   "source": [
    "for name in namelist2:\n",
    "    print(name,'Good Morning')"
   ]
  },
  {
   "cell_type": "code",
   "execution_count": 84,
   "id": "205e8824",
   "metadata": {},
   "outputs": [],
   "source": [
    "def greet(namelist):\n",
    "    for name in namelist:\n",
    "        print(name,'Good Morning')"
   ]
  },
  {
   "cell_type": "code",
   "execution_count": 87,
   "id": "743fd9b9",
   "metadata": {},
   "outputs": [
    {
     "name": "stdout",
     "output_type": "stream",
     "text": [
      "Parth Good Morning\n",
      "Kartik Good Morning\n",
      "Akashj Good Morning\n",
      "Rajan Good Morning\n",
      "Rushil Good Morning\n"
     ]
    }
   ],
   "source": [
    "greet(names)"
   ]
  },
  {
   "cell_type": "code",
   "execution_count": 88,
   "id": "2ddee79b",
   "metadata": {},
   "outputs": [
    {
     "name": "stdout",
     "output_type": "stream",
     "text": [
      "Rekha Good Morning\n",
      "Hema Good Morning\n",
      "Jaya Good Morning\n",
      "Prachi Good Morning\n"
     ]
    }
   ],
   "source": [
    "greet(namelist2)"
   ]
  },
  {
   "cell_type": "code",
   "execution_count": 89,
   "id": "32f1c349",
   "metadata": {},
   "outputs": [],
   "source": [
    "import random \n",
    "\n",
    "SharePrices=[]\n",
    "for i in range(1,1001):\n",
    "    n= random.randint(1000,1500)\n",
    "    SharePrices.append(n)"
   ]
  },
  {
   "cell_type": "code",
   "execution_count": 90,
   "id": "f4971ad6",
   "metadata": {},
   "outputs": [
    {
     "name": "stdout",
     "output_type": "stream",
     "text": [
      "[1349, 1293, 1229, 1022, 1294, 1178, 1315, 1420, 1357, 1090, 1190, 1294, 1493, 1417, 1498, 1202, 1363, 1124, 1330, 1142, 1123, 1308, 1326, 1009, 1118, 1080, 1130, 1141, 1144, 1322, 1316, 1161, 1083, 1190, 1275, 1019, 1358, 1379, 1009, 1040, 1472, 1191, 1408, 1207, 1006, 1030, 1130, 1307, 1497, 1162, 1246, 1423, 1396, 1446, 1233, 1358, 1428, 1219, 1269, 1316, 1352, 1090, 1253, 1182, 1016, 1267, 1062, 1361, 1364, 1340, 1064, 1483, 1290, 1326, 1329, 1021, 1435, 1300, 1247, 1134, 1107, 1052, 1357, 1145, 1197, 1168, 1459, 1001, 1095, 1206, 1408, 1082, 1264, 1403, 1399, 1218, 1483, 1164, 1448, 1178, 1325, 1185, 1497, 1180, 1441, 1299, 1298, 1007, 1008, 1463, 1162, 1371, 1428, 1064, 1381, 1096, 1244, 1045, 1232, 1125, 1197, 1370, 1331, 1048, 1154, 1190, 1490, 1473, 1062, 1473, 1001, 1280, 1494, 1317, 1176, 1175, 1126, 1411, 1034, 1347, 1007, 1189, 1407, 1155, 1287, 1185, 1336, 1163, 1269, 1361, 1006, 1306, 1149, 1038, 1238, 1205, 1011, 1355, 1196, 1428, 1148, 1114, 1018, 1104, 1041, 1365, 1468, 1294, 1125, 1334, 1211, 1231, 1443, 1200, 1051, 1442, 1334, 1259, 1406, 1355, 1435, 1295, 1387, 1013, 1418, 1175, 1186, 1228, 1394, 1211, 1079, 1387, 1002, 1116, 1339, 1140, 1190, 1481, 1498, 1210, 1472, 1202, 1275, 1191, 1313, 1105, 1032, 1428, 1485, 1449, 1424, 1425, 1231, 1142, 1491, 1434, 1270, 1193, 1152, 1404, 1280, 1490, 1146, 1115, 1329, 1178, 1079, 1261, 1208, 1170, 1306, 1475, 1034, 1241, 1091, 1283, 1474, 1073, 1461, 1338, 1253, 1276, 1196, 1211, 1072, 1385, 1399, 1304, 1487, 1413, 1199, 1385, 1166, 1467, 1276, 1448, 1292, 1373, 1209, 1223, 1068, 1388, 1400, 1040, 1398, 1235, 1498, 1330, 1098, 1405, 1303, 1155, 1165, 1378, 1416, 1426, 1131, 1003, 1449, 1251, 1238, 1136, 1435, 1395, 1000, 1413, 1268, 1280, 1023, 1266, 1156, 1420, 1437, 1241, 1494, 1034, 1062, 1463, 1317, 1238, 1009, 1145, 1410, 1179, 1385, 1248, 1239, 1250, 1070, 1440, 1164, 1345, 1426, 1371, 1309, 1173, 1459, 1369, 1180, 1412, 1200, 1315, 1291, 1297, 1127, 1229, 1472, 1305, 1433, 1162, 1499, 1478, 1308, 1065, 1358, 1272, 1471, 1437, 1123, 1493, 1227, 1103, 1434, 1467, 1477, 1234, 1363, 1499, 1129, 1294, 1199, 1359, 1125, 1021, 1495, 1439, 1244, 1305, 1328, 1411, 1129, 1038, 1240, 1421, 1055, 1041, 1169, 1260, 1111, 1295, 1017, 1073, 1499, 1390, 1085, 1044, 1191, 1496, 1182, 1338, 1443, 1149, 1045, 1054, 1175, 1070, 1240, 1252, 1487, 1293, 1269, 1432, 1186, 1353, 1428, 1120, 1291, 1069, 1365, 1257, 1257, 1218, 1220, 1133, 1396, 1251, 1288, 1168, 1460, 1386, 1285, 1249, 1399, 1307, 1149, 1312, 1472, 1475, 1009, 1407, 1084, 1331, 1128, 1322, 1002, 1446, 1151, 1158, 1337, 1329, 1284, 1343, 1196, 1270, 1373, 1377, 1393, 1097, 1242, 1302, 1011, 1465, 1331, 1375, 1071, 1260, 1073, 1380, 1404, 1473, 1340, 1032, 1173, 1406, 1437, 1240, 1187, 1306, 1371, 1071, 1139, 1238, 1059, 1225, 1025, 1044, 1090, 1356, 1337, 1482, 1071, 1360, 1056, 1017, 1468, 1054, 1438, 1474, 1047, 1306, 1313, 1020, 1342, 1415, 1008, 1287, 1080, 1496, 1127, 1440, 1046, 1328, 1237, 1000, 1283, 1205, 1310, 1412, 1032, 1260, 1254, 1315, 1223, 1228, 1417, 1172, 1191, 1094, 1463, 1199, 1459, 1358, 1469, 1067, 1442, 1410, 1100, 1156, 1001, 1464, 1122, 1123, 1334, 1181, 1182, 1377, 1345, 1024, 1306, 1006, 1393, 1392, 1209, 1103, 1458, 1294, 1116, 1450, 1270, 1169, 1405, 1453, 1102, 1316, 1295, 1091, 1299, 1266, 1293, 1281, 1233, 1005, 1418, 1379, 1377, 1438, 1025, 1272, 1163, 1160, 1364, 1127, 1277, 1361, 1382, 1392, 1115, 1065, 1253, 1358, 1500, 1154, 1491, 1196, 1257, 1057, 1376, 1425, 1117, 1298, 1387, 1070, 1039, 1309, 1437, 1060, 1473, 1114, 1173, 1284, 1015, 1284, 1183, 1016, 1382, 1270, 1349, 1176, 1273, 1330, 1415, 1017, 1462, 1336, 1471, 1036, 1000, 1075, 1345, 1034, 1134, 1447, 1109, 1264, 1070, 1105, 1048, 1109, 1090, 1202, 1419, 1267, 1388, 1298, 1324, 1158, 1238, 1442, 1018, 1302, 1408, 1251, 1095, 1315, 1326, 1482, 1092, 1454, 1219, 1167, 1217, 1396, 1494, 1470, 1171, 1413, 1346, 1260, 1414, 1167, 1410, 1225, 1101, 1479, 1115, 1183, 1349, 1446, 1404, 1056, 1143, 1023, 1119, 1422, 1295, 1394, 1495, 1389, 1348, 1035, 1065, 1315, 1086, 1136, 1396, 1054, 1211, 1125, 1230, 1419, 1029, 1324, 1046, 1228, 1307, 1085, 1071, 1157, 1395, 1368, 1350, 1043, 1427, 1443, 1404, 1116, 1316, 1120, 1331, 1480, 1063, 1104, 1063, 1216, 1121, 1439, 1416, 1043, 1186, 1103, 1218, 1197, 1487, 1066, 1469, 1285, 1379, 1166, 1265, 1008, 1329, 1459, 1459, 1493, 1193, 1121, 1427, 1390, 1055, 1487, 1179, 1488, 1241, 1180, 1089, 1475, 1361, 1023, 1464, 1248, 1213, 1421, 1094, 1058, 1456, 1047, 1394, 1094, 1228, 1173, 1094, 1264, 1060, 1096, 1156, 1483, 1477, 1374, 1235, 1092, 1390, 1094, 1350, 1125, 1108, 1370, 1026, 1025, 1113, 1238, 1431, 1169, 1404, 1119, 1422, 1452, 1278, 1449, 1371, 1210, 1119, 1408, 1220, 1334, 1391, 1102, 1208, 1328, 1072, 1279, 1404, 1441, 1245, 1179, 1119, 1434, 1228, 1137, 1306, 1190, 1070, 1372, 1010, 1022, 1213, 1153, 1301, 1164, 1450, 1249, 1026, 1166, 1444, 1009, 1053, 1454, 1091, 1322, 1017, 1035, 1398, 1090, 1158, 1350, 1117, 1404, 1493, 1002, 1140, 1170, 1437, 1092, 1098, 1348, 1097, 1167, 1225, 1371, 1340, 1009, 1366, 1292, 1348, 1360, 1210, 1376, 1331, 1459, 1250, 1348, 1017, 1380, 1183, 1378, 1381, 1201, 1414, 1063, 1274, 1120, 1418, 1248, 1232, 1093, 1216, 1178, 1352, 1125, 1256, 1425, 1181, 1191, 1412, 1473, 1207, 1416, 1362, 1026, 1233, 1052, 1277, 1249, 1239, 1027, 1228, 1026, 1462, 1282, 1422, 1133, 1045, 1019, 1217, 1206, 1373, 1230, 1142, 1193, 1248, 1192, 1017, 1386, 1186, 1467, 1493, 1390, 1190, 1094, 1402, 1403, 1447, 1387, 1162, 1115, 1208, 1159, 1436, 1060, 1445, 1083, 1069, 1369, 1093, 1259, 1466, 1083, 1187, 1232, 1049, 1378, 1449, 1428, 1202, 1458, 1166, 1065, 1256, 1223, 1267, 1088, 1481, 1394, 1042, 1414, 1449, 1439, 1058, 1180, 1054, 1256, 1349, 1002, 1444, 1366, 1282, 1168, 1371, 1414, 1453, 1121, 1011, 1449, 1396, 1286, 1017, 1253, 1140, 1166, 1220, 1411, 1233, 1099, 1178, 1438, 1363, 1455, 1162, 1021, 1232, 1106, 1117, 1243, 1200, 1121, 1029, 1271, 1173, 1484, 1330, 1396, 1305, 1336, 1332, 1359, 1298, 1274, 1198, 1321, 1496, 1372]\n"
     ]
    }
   ],
   "source": [
    "print(SharePrices)"
   ]
  },
  {
   "cell_type": "code",
   "execution_count": 91,
   "id": "8e9741e3",
   "metadata": {},
   "outputs": [],
   "source": [
    "SharePrices.sort()"
   ]
  },
  {
   "cell_type": "code",
   "execution_count": 92,
   "id": "6146a910",
   "metadata": {},
   "outputs": [
    {
     "name": "stdout",
     "output_type": "stream",
     "text": [
      "[1000, 1000, 1000, 1001, 1001, 1001, 1002, 1002, 1002, 1002, 1003, 1005, 1006, 1006, 1006, 1007, 1007, 1008, 1008, 1008, 1009, 1009, 1009, 1009, 1009, 1009, 1010, 1011, 1011, 1011, 1013, 1015, 1016, 1016, 1017, 1017, 1017, 1017, 1017, 1017, 1017, 1018, 1018, 1019, 1019, 1020, 1021, 1021, 1021, 1022, 1022, 1023, 1023, 1023, 1024, 1025, 1025, 1025, 1026, 1026, 1026, 1026, 1027, 1029, 1029, 1030, 1032, 1032, 1032, 1034, 1034, 1034, 1034, 1035, 1035, 1036, 1038, 1038, 1039, 1040, 1040, 1041, 1041, 1042, 1043, 1043, 1044, 1044, 1045, 1045, 1045, 1046, 1046, 1047, 1047, 1048, 1048, 1049, 1051, 1052, 1052, 1053, 1054, 1054, 1054, 1054, 1055, 1055, 1056, 1056, 1057, 1058, 1058, 1059, 1060, 1060, 1060, 1062, 1062, 1062, 1063, 1063, 1063, 1064, 1064, 1065, 1065, 1065, 1065, 1066, 1067, 1068, 1069, 1069, 1070, 1070, 1070, 1070, 1070, 1071, 1071, 1071, 1071, 1072, 1072, 1073, 1073, 1073, 1075, 1079, 1079, 1080, 1080, 1082, 1083, 1083, 1083, 1084, 1085, 1085, 1086, 1088, 1089, 1090, 1090, 1090, 1090, 1090, 1091, 1091, 1091, 1092, 1092, 1092, 1093, 1093, 1094, 1094, 1094, 1094, 1094, 1094, 1095, 1095, 1096, 1096, 1097, 1097, 1098, 1098, 1099, 1100, 1101, 1102, 1102, 1103, 1103, 1103, 1104, 1104, 1105, 1105, 1106, 1107, 1108, 1109, 1109, 1111, 1113, 1114, 1114, 1115, 1115, 1115, 1115, 1116, 1116, 1116, 1117, 1117, 1117, 1118, 1119, 1119, 1119, 1119, 1120, 1120, 1120, 1121, 1121, 1121, 1121, 1122, 1123, 1123, 1123, 1124, 1125, 1125, 1125, 1125, 1125, 1125, 1126, 1127, 1127, 1127, 1128, 1129, 1129, 1130, 1130, 1131, 1133, 1133, 1134, 1134, 1136, 1136, 1137, 1139, 1140, 1140, 1140, 1141, 1142, 1142, 1142, 1143, 1144, 1145, 1145, 1146, 1148, 1149, 1149, 1149, 1151, 1152, 1153, 1154, 1154, 1155, 1155, 1156, 1156, 1156, 1157, 1158, 1158, 1158, 1159, 1160, 1161, 1162, 1162, 1162, 1162, 1162, 1163, 1163, 1164, 1164, 1164, 1165, 1166, 1166, 1166, 1166, 1166, 1167, 1167, 1167, 1168, 1168, 1168, 1169, 1169, 1169, 1170, 1170, 1171, 1172, 1173, 1173, 1173, 1173, 1173, 1175, 1175, 1175, 1176, 1176, 1178, 1178, 1178, 1178, 1178, 1179, 1179, 1179, 1180, 1180, 1180, 1180, 1181, 1181, 1182, 1182, 1182, 1183, 1183, 1183, 1185, 1185, 1186, 1186, 1186, 1186, 1187, 1187, 1189, 1190, 1190, 1190, 1190, 1190, 1190, 1191, 1191, 1191, 1191, 1191, 1192, 1193, 1193, 1193, 1196, 1196, 1196, 1196, 1197, 1197, 1197, 1198, 1199, 1199, 1199, 1200, 1200, 1200, 1201, 1202, 1202, 1202, 1202, 1205, 1205, 1206, 1206, 1207, 1207, 1208, 1208, 1208, 1209, 1209, 1210, 1210, 1210, 1211, 1211, 1211, 1211, 1213, 1213, 1216, 1216, 1217, 1217, 1218, 1218, 1218, 1219, 1219, 1220, 1220, 1220, 1223, 1223, 1223, 1225, 1225, 1225, 1227, 1228, 1228, 1228, 1228, 1228, 1228, 1229, 1229, 1230, 1230, 1231, 1231, 1232, 1232, 1232, 1232, 1233, 1233, 1233, 1233, 1234, 1235, 1235, 1237, 1238, 1238, 1238, 1238, 1238, 1238, 1239, 1239, 1240, 1240, 1240, 1241, 1241, 1241, 1242, 1243, 1244, 1244, 1245, 1246, 1247, 1248, 1248, 1248, 1248, 1249, 1249, 1249, 1250, 1250, 1251, 1251, 1251, 1252, 1253, 1253, 1253, 1253, 1254, 1256, 1256, 1256, 1257, 1257, 1257, 1259, 1259, 1260, 1260, 1260, 1260, 1261, 1264, 1264, 1264, 1265, 1266, 1266, 1267, 1267, 1267, 1268, 1269, 1269, 1269, 1270, 1270, 1270, 1270, 1271, 1272, 1272, 1273, 1274, 1274, 1275, 1275, 1276, 1276, 1277, 1277, 1278, 1279, 1280, 1280, 1280, 1281, 1282, 1282, 1283, 1283, 1284, 1284, 1284, 1285, 1285, 1286, 1287, 1287, 1288, 1290, 1291, 1291, 1292, 1292, 1293, 1293, 1293, 1294, 1294, 1294, 1294, 1294, 1295, 1295, 1295, 1295, 1297, 1298, 1298, 1298, 1298, 1299, 1299, 1300, 1301, 1302, 1302, 1303, 1304, 1305, 1305, 1305, 1306, 1306, 1306, 1306, 1306, 1306, 1307, 1307, 1307, 1308, 1308, 1309, 1309, 1310, 1312, 1313, 1313, 1315, 1315, 1315, 1315, 1315, 1316, 1316, 1316, 1316, 1317, 1317, 1321, 1322, 1322, 1322, 1324, 1324, 1325, 1326, 1326, 1326, 1328, 1328, 1328, 1329, 1329, 1329, 1329, 1330, 1330, 1330, 1330, 1331, 1331, 1331, 1331, 1331, 1332, 1334, 1334, 1334, 1334, 1336, 1336, 1336, 1337, 1337, 1338, 1338, 1339, 1340, 1340, 1340, 1342, 1343, 1345, 1345, 1345, 1346, 1347, 1348, 1348, 1348, 1348, 1349, 1349, 1349, 1349, 1350, 1350, 1350, 1352, 1352, 1353, 1355, 1355, 1356, 1357, 1357, 1358, 1358, 1358, 1358, 1358, 1359, 1359, 1360, 1360, 1361, 1361, 1361, 1361, 1362, 1363, 1363, 1363, 1364, 1364, 1365, 1365, 1366, 1366, 1368, 1369, 1369, 1370, 1370, 1371, 1371, 1371, 1371, 1371, 1371, 1372, 1372, 1373, 1373, 1373, 1374, 1375, 1376, 1376, 1377, 1377, 1377, 1378, 1378, 1378, 1379, 1379, 1379, 1380, 1380, 1381, 1381, 1382, 1382, 1385, 1385, 1385, 1386, 1386, 1387, 1387, 1387, 1387, 1388, 1388, 1389, 1390, 1390, 1390, 1390, 1391, 1392, 1392, 1393, 1393, 1394, 1394, 1394, 1394, 1395, 1395, 1396, 1396, 1396, 1396, 1396, 1396, 1398, 1398, 1399, 1399, 1399, 1400, 1402, 1403, 1403, 1404, 1404, 1404, 1404, 1404, 1404, 1404, 1405, 1405, 1406, 1406, 1407, 1407, 1408, 1408, 1408, 1408, 1410, 1410, 1410, 1411, 1411, 1411, 1412, 1412, 1412, 1413, 1413, 1413, 1414, 1414, 1414, 1414, 1415, 1415, 1416, 1416, 1416, 1417, 1417, 1418, 1418, 1418, 1419, 1419, 1420, 1420, 1421, 1421, 1422, 1422, 1422, 1423, 1424, 1425, 1425, 1425, 1426, 1426, 1427, 1427, 1428, 1428, 1428, 1428, 1428, 1428, 1431, 1432, 1433, 1434, 1434, 1434, 1435, 1435, 1435, 1436, 1437, 1437, 1437, 1437, 1437, 1438, 1438, 1438, 1439, 1439, 1439, 1440, 1440, 1441, 1441, 1442, 1442, 1442, 1443, 1443, 1443, 1444, 1444, 1445, 1446, 1446, 1446, 1447, 1447, 1448, 1448, 1449, 1449, 1449, 1449, 1449, 1449, 1450, 1450, 1452, 1453, 1453, 1454, 1454, 1455, 1456, 1458, 1458, 1459, 1459, 1459, 1459, 1459, 1459, 1460, 1461, 1462, 1462, 1463, 1463, 1463, 1464, 1464, 1465, 1466, 1467, 1467, 1467, 1468, 1468, 1469, 1469, 1470, 1471, 1471, 1472, 1472, 1472, 1472, 1473, 1473, 1473, 1473, 1473, 1474, 1474, 1475, 1475, 1475, 1477, 1477, 1478, 1479, 1480, 1481, 1481, 1482, 1482, 1483, 1483, 1483, 1484, 1485, 1487, 1487, 1487, 1487, 1488, 1490, 1490, 1491, 1491, 1493, 1493, 1493, 1493, 1493, 1494, 1494, 1494, 1495, 1495, 1496, 1496, 1496, 1497, 1497, 1498, 1498, 1498, 1499, 1499, 1499, 1500]\n"
     ]
    }
   ],
   "source": [
    "print(SharePrices)"
   ]
  },
  {
   "cell_type": "code",
   "execution_count": 22,
   "id": "801964e5",
   "metadata": {},
   "outputs": [],
   "source": [
    "# find maximum and minimum price of stock in a day and find its range"
   ]
  },
  {
   "cell_type": "code",
   "execution_count": 93,
   "id": "ccf9bf00",
   "metadata": {},
   "outputs": [],
   "source": [
    "def maxMinRange(SharePrices):\n",
    "    mx=SharePrices[0]\n",
    "    mn=SharePrices[0]\n",
    "    for ele in SharePrices:\n",
    "        if(ele>mx):\n",
    "            mx=ele\n",
    "        if(ele<mn):\n",
    "            mn=ele\n",
    "    return (mx,mn,mx-mn)"
   ]
  },
  {
   "cell_type": "code",
   "execution_count": 94,
   "id": "ed38c86a",
   "metadata": {},
   "outputs": [
    {
     "data": {
      "text/plain": [
       "(1500, 1000, 500)"
      ]
     },
     "execution_count": 94,
     "metadata": {},
     "output_type": "execute_result"
    }
   ],
   "source": [
    "maxMinRange(SharePrices)"
   ]
  },
  {
   "cell_type": "code",
   "execution_count": null,
   "id": "9eefa412",
   "metadata": {},
   "outputs": [],
   "source": []
  },
  {
   "cell_type": "markdown",
   "id": "2d139157",
   "metadata": {},
   "source": [
    "# Arguments and Parameters"
   ]
  },
  {
   "cell_type": "code",
   "execution_count": null,
   "id": "405eb081",
   "metadata": {},
   "outputs": [],
   "source": [
    "# positional arguments"
   ]
  },
  {
   "cell_type": "code",
   "execution_count": 95,
   "id": "fcd4896e",
   "metadata": {},
   "outputs": [],
   "source": [
    "def introduce(name,occupation):\n",
    "    print(f'My name is {name}.I am a {occupation}')"
   ]
  },
  {
   "cell_type": "code",
   "execution_count": 96,
   "id": "39d74786",
   "metadata": {},
   "outputs": [
    {
     "name": "stdout",
     "output_type": "stream",
     "text": [
      "My name is Parth.I am a Software Developer\n"
     ]
    }
   ],
   "source": [
    "introduce('Parth','Software Developer')"
   ]
  },
  {
   "cell_type": "code",
   "execution_count": 97,
   "id": "9894e150",
   "metadata": {},
   "outputs": [
    {
     "ename": "TypeError",
     "evalue": "introduce() missing 1 required positional argument: 'occupation'",
     "output_type": "error",
     "traceback": [
      "\u001b[1;31m---------------------------------------------------------------------------\u001b[0m",
      "\u001b[1;31mTypeError\u001b[0m                                 Traceback (most recent call last)",
      "Input \u001b[1;32mIn [97]\u001b[0m, in \u001b[0;36m<cell line: 1>\u001b[1;34m()\u001b[0m\n\u001b[1;32m----> 1\u001b[0m \u001b[43mintroduce\u001b[49m\u001b[43m(\u001b[49m\u001b[38;5;124;43m'\u001b[39;49m\u001b[38;5;124;43mParth\u001b[39;49m\u001b[38;5;124;43m'\u001b[39;49m\u001b[43m)\u001b[49m\n",
      "\u001b[1;31mTypeError\u001b[0m: introduce() missing 1 required positional argument: 'occupation'"
     ]
    }
   ],
   "source": [
    "introduce('Parth')"
   ]
  },
  {
   "cell_type": "code",
   "execution_count": 98,
   "id": "fe416fc6",
   "metadata": {},
   "outputs": [
    {
     "name": "stdout",
     "output_type": "stream",
     "text": [
      "My name is Software Developer.I am a Parth\n"
     ]
    }
   ],
   "source": [
    "introduce('Software Developer','Parth')"
   ]
  },
  {
   "cell_type": "code",
   "execution_count": null,
   "id": "16dcedb0",
   "metadata": {},
   "outputs": [],
   "source": [
    "#default arguments"
   ]
  },
  {
   "cell_type": "code",
   "execution_count": 99,
   "id": "cdcd8005",
   "metadata": {},
   "outputs": [],
   "source": [
    "def introduce2(name,occupation='job seeker'):\n",
    "    print(f'My name is {name}. I am a {occupation}')"
   ]
  },
  {
   "cell_type": "code",
   "execution_count": 100,
   "id": "6bc4d76e",
   "metadata": {},
   "outputs": [
    {
     "name": "stdout",
     "output_type": "stream",
     "text": [
      "My name is Parth. I am a Software Developer\n"
     ]
    }
   ],
   "source": [
    "introduce2('Parth','Software Developer')"
   ]
  },
  {
   "cell_type": "code",
   "execution_count": 101,
   "id": "20947151",
   "metadata": {},
   "outputs": [
    {
     "name": "stdout",
     "output_type": "stream",
     "text": [
      "My name is Mohit. I am a job seeker\n"
     ]
    }
   ],
   "source": [
    "introduce2('Mohit')"
   ]
  },
  {
   "cell_type": "code",
   "execution_count": null,
   "id": "fb94925d",
   "metadata": {},
   "outputs": [],
   "source": [
    "# args"
   ]
  },
  {
   "cell_type": "code",
   "execution_count": 112,
   "id": "3fffa1ea",
   "metadata": {},
   "outputs": [],
   "source": [
    "def myHobbies(*args):\n",
    "    print('My Hobbies are',end=' ')\n",
    "    for i in args:\n",
    "        print(i,end=', ')"
   ]
  },
  {
   "cell_type": "code",
   "execution_count": 113,
   "id": "d9b53f18",
   "metadata": {},
   "outputs": [
    {
     "name": "stdout",
     "output_type": "stream",
     "text": [
      "My Hobbies are Playing Chess, Coding, Trading, Singing, Reading Books, "
     ]
    }
   ],
   "source": [
    "myHobbies('Playing Chess','Coding','Trading','Singing','Reading Books')"
   ]
  },
  {
   "cell_type": "code",
   "execution_count": null,
   "id": "69c93e51",
   "metadata": {},
   "outputs": [],
   "source": [
    "# kwargs (keyword args)"
   ]
  },
  {
   "cell_type": "code",
   "execution_count": 114,
   "id": "18dce88c",
   "metadata": {},
   "outputs": [],
   "source": [
    "def myInroduction(**kwargs):\n",
    "    for k,v in kwargs.items():\n",
    "        print(f'My {k}, {v}')"
   ]
  },
  {
   "cell_type": "code",
   "execution_count": 116,
   "id": "bfc6d322",
   "metadata": {},
   "outputs": [
    {
     "name": "stdout",
     "output_type": "stream",
     "text": [
      "My name, Parth\n",
      "My hobbies, ['Playing Chess', 'Singing', 'Trading', 'Swimming']\n",
      "My nationality, Indian\n",
      "My gender, male\n"
     ]
    }
   ],
   "source": [
    "myInroduction(name='Parth',hobbies=['Playing Chess','Singing','Trading','Swimming'],nationality='Indian',gender='male')"
   ]
  },
  {
   "cell_type": "markdown",
   "id": "98f014bb",
   "metadata": {},
   "source": [
    "# Built in function\n",
    "- print\n",
    "- abs\n",
    "- min \n",
    "- max\n",
    "- sum\n",
    "- round\n",
    "- len\n",
    "- all\n",
    "- any\n",
    "- dir\n",
    "- map\n",
    "- filter\n"
   ]
  },
  {
   "cell_type": "code",
   "execution_count": 117,
   "id": "0060df9d",
   "metadata": {},
   "outputs": [
    {
     "name": "stdout",
     "output_type": "stream",
     "text": [
      "1 1 5596 1239\n"
     ]
    }
   ],
   "source": [
    "print(abs(-1),abs(1),abs(-5596),abs(1239))"
   ]
  },
  {
   "cell_type": "code",
   "execution_count": 118,
   "id": "45bffbc5",
   "metadata": {},
   "outputs": [],
   "source": [
    "lst1=[23,6,77,43,23,45,78,2,69,32,45,37,22,32,11,17]"
   ]
  },
  {
   "cell_type": "code",
   "execution_count": 119,
   "id": "8a645a4e",
   "metadata": {},
   "outputs": [
    {
     "name": "stdout",
     "output_type": "stream",
     "text": [
      "78 2 562\n"
     ]
    }
   ],
   "source": [
    "print(max(lst1),min(lst1),sum(lst1))"
   ]
  },
  {
   "cell_type": "code",
   "execution_count": 125,
   "id": "7d2f1422",
   "metadata": {},
   "outputs": [],
   "source": [
    "number = 9.59933"
   ]
  },
  {
   "cell_type": "code",
   "execution_count": 126,
   "id": "60aa7588",
   "metadata": {},
   "outputs": [
    {
     "data": {
      "text/plain": [
       "10"
      ]
     },
     "execution_count": 126,
     "metadata": {},
     "output_type": "execute_result"
    }
   ],
   "source": [
    "round(number)"
   ]
  },
  {
   "cell_type": "code",
   "execution_count": 127,
   "id": "a7afb15b",
   "metadata": {},
   "outputs": [
    {
     "data": {
      "text/plain": [
       "9.599"
      ]
     },
     "execution_count": 127,
     "metadata": {},
     "output_type": "execute_result"
    }
   ],
   "source": [
    "round(number,3)"
   ]
  },
  {
   "cell_type": "code",
   "execution_count": 128,
   "id": "d24bb5ff",
   "metadata": {},
   "outputs": [],
   "source": [
    "lst2=[0,2,3,5,2,4,56]"
   ]
  },
  {
   "cell_type": "code",
   "execution_count": 49,
   "id": "84169ea7",
   "metadata": {},
   "outputs": [
    {
     "data": {
      "text/plain": [
       "False"
      ]
     },
     "execution_count": 49,
     "metadata": {},
     "output_type": "execute_result"
    }
   ],
   "source": [
    "all(lst2)"
   ]
  },
  {
   "cell_type": "code",
   "execution_count": 50,
   "id": "f44c63c7",
   "metadata": {},
   "outputs": [
    {
     "data": {
      "text/plain": [
       "True"
      ]
     },
     "execution_count": 50,
     "metadata": {},
     "output_type": "execute_result"
    }
   ],
   "source": [
    "any(lst2)"
   ]
  },
  {
   "cell_type": "code",
   "execution_count": 52,
   "id": "a4c79311",
   "metadata": {},
   "outputs": [
    {
     "name": "stdout",
     "output_type": "stream",
     "text": [
      "['__add__', '__class__', '__class_getitem__', '__contains__', '__delattr__', '__delitem__', '__dir__', '__doc__', '__eq__', '__format__', '__ge__', '__getattribute__', '__getitem__', '__gt__', '__hash__', '__iadd__', '__imul__', '__init__', '__init_subclass__', '__iter__', '__le__', '__len__', '__lt__', '__mul__', '__ne__', '__new__', '__reduce__', '__reduce_ex__', '__repr__', '__reversed__', '__rmul__', '__setattr__', '__setitem__', '__sizeof__', '__str__', '__subclasshook__', 'append', 'clear', 'copy', 'count', 'extend', 'index', 'insert', 'pop', 'remove', 'reverse', 'sort']\n"
     ]
    }
   ],
   "source": [
    "print(dir(lst2))"
   ]
  },
  {
   "cell_type": "code",
   "execution_count": 129,
   "id": "7a27fc81",
   "metadata": {},
   "outputs": [],
   "source": [
    "def operation(number):\n",
    "    return number*6"
   ]
  },
  {
   "cell_type": "code",
   "execution_count": 130,
   "id": "946bff9e",
   "metadata": {},
   "outputs": [],
   "source": [
    "lst3=[1,2,3,4,5,6,7]"
   ]
  },
  {
   "cell_type": "code",
   "execution_count": 131,
   "id": "b420b205",
   "metadata": {},
   "outputs": [
    {
     "name": "stdout",
     "output_type": "stream",
     "text": [
      "[6, 12, 18, 24, 30, 36, 42]\n"
     ]
    }
   ],
   "source": [
    "new_lst3=[]\n",
    "for i in lst3:\n",
    "    new_lst3.append(operation(i))\n",
    "print(new_lst3)"
   ]
  },
  {
   "cell_type": "code",
   "execution_count": 132,
   "id": "bd251061",
   "metadata": {},
   "outputs": [],
   "source": [
    "def operation2(number):\n",
    "    return number*7"
   ]
  },
  {
   "cell_type": "code",
   "execution_count": 133,
   "id": "da3933ba",
   "metadata": {},
   "outputs": [
    {
     "name": "stdout",
     "output_type": "stream",
     "text": [
      "[7, 14, 21, 28, 35, 42, 49]\n"
     ]
    }
   ],
   "source": [
    "lst4=list(map(operation2,lst3))\n",
    "print(lst4)"
   ]
  },
  {
   "cell_type": "code",
   "execution_count": 134,
   "id": "13cacb3f",
   "metadata": {},
   "outputs": [],
   "source": [
    "lst5=[]\n",
    "for i in range(1,21):\n",
    "    n= random.randint(7,777)\n",
    "    lst5.append(n)\n"
   ]
  },
  {
   "cell_type": "code",
   "execution_count": 135,
   "id": "46d95d28",
   "metadata": {},
   "outputs": [
    {
     "name": "stdout",
     "output_type": "stream",
     "text": [
      "[15, 279, 32, 466, 686, 359, 67, 438, 292, 23, 545, 713, 252, 430, 87, 107, 742, 586, 699, 213]\n"
     ]
    }
   ],
   "source": [
    "print(lst5)"
   ]
  },
  {
   "cell_type": "code",
   "execution_count": 136,
   "id": "b6afdc3a",
   "metadata": {},
   "outputs": [],
   "source": [
    "lst5e=[]\n",
    "for ele in lst5:\n",
    "    if(ele%2==0):\n",
    "        lst5e.append(ele)"
   ]
  },
  {
   "cell_type": "code",
   "execution_count": 137,
   "id": "5c55c84e",
   "metadata": {},
   "outputs": [
    {
     "name": "stdout",
     "output_type": "stream",
     "text": [
      "[32, 466, 686, 438, 292, 252, 430, 742, 586]\n"
     ]
    }
   ],
   "source": [
    "print(lst5e)"
   ]
  },
  {
   "cell_type": "code",
   "execution_count": 64,
   "id": "13810c98",
   "metadata": {},
   "outputs": [],
   "source": [
    "def isEven(number):\n",
    "    return number%2==0"
   ]
  },
  {
   "cell_type": "code",
   "execution_count": 69,
   "id": "13000023",
   "metadata": {},
   "outputs": [],
   "source": [
    "lst5e=list(filter(isEven,lst5))"
   ]
  },
  {
   "cell_type": "code",
   "execution_count": 70,
   "id": "8c77e4fd",
   "metadata": {
    "collapsed": true
   },
   "outputs": [
    {
     "data": {
      "text/plain": [
       "[104, 638, 146, 722, 192, 402, 44, 258, 712, 544, 454, 262, 370]"
      ]
     },
     "execution_count": 70,
     "metadata": {},
     "output_type": "execute_result"
    }
   ],
   "source": [
    "lst5e"
   ]
  },
  {
   "cell_type": "code",
   "execution_count": null,
   "id": "79502200",
   "metadata": {},
   "outputs": [],
   "source": []
  }
 ],
 "metadata": {
  "kernelspec": {
   "display_name": "Python 3 (ipykernel)",
   "language": "python",
   "name": "python3"
  },
  "language_info": {
   "codemirror_mode": {
    "name": "ipython",
    "version": 3
   },
   "file_extension": ".py",
   "mimetype": "text/x-python",
   "name": "python",
   "nbconvert_exporter": "python",
   "pygments_lexer": "ipython3",
   "version": "3.9.12"
  }
 },
 "nbformat": 4,
 "nbformat_minor": 5
}
