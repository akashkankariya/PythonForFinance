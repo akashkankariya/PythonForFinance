{
 "cells": [
  {
   "cell_type": "markdown",
   "id": "399f86e7",
   "metadata": {},
   "source": [
    "# Class (Object Oriented Programming)\n",
    "- creating employee class \n",
    "- ___repr___\n",
    "- roles of employee inheritance class \n",
    "- managers , employee list under him  ,number of employee under him\n"
   ]
  },
  {
   "cell_type": "code",
   "execution_count": 135,
   "id": "5a48df5b",
   "metadata": {},
   "outputs": [],
   "source": [
    "class Employee:\n",
    "    number_of_employee=0\n",
    "    idseq=100\n",
    "    employee_database=[]\n",
    "    def __init__(self,name,age,is_working=True): # constructor\n",
    "        self.name=name\n",
    "        self.age=age\n",
    "        self.id=Employee.idseq\n",
    "        self.is_working=is_working\n",
    "        Employee.idseq+=1\n",
    "        Employee.number_of_employee+=1\n",
    "        Employee.employee_database.append(self)\n",
    "    def introduce(self): # Instance Method\n",
    "        print(f'Hello,Good Morning. My name is {self.name}, and I am {self.age} years old. My Id is {self.id}')\n",
    "    \n",
    "    def fire(self):\n",
    "        if(self.is_working==True):\n",
    "            self.is_working=False\n",
    "            Employee.number_of_employee-=1\n",
    "        else:\n",
    "            print('Cannot fire this employee. He is already fired')\n",
    "        \n",
    "    def __repr__(self):\n",
    "        return f'(name={self.name}, age={self.age})'"
   ]
  },
  {
   "cell_type": "code",
   "execution_count": 136,
   "id": "91496ece",
   "metadata": {},
   "outputs": [],
   "source": [
    "e1 = Employee('Parth',60)"
   ]
  },
  {
   "cell_type": "code",
   "execution_count": 137,
   "id": "6175d589",
   "metadata": {},
   "outputs": [
    {
     "name": "stdout",
     "output_type": "stream",
     "text": [
      "Hello,Good Morning. My name is Parth, and I am 60 years old. My Id is 100\n"
     ]
    }
   ],
   "source": [
    "e1.introduce()"
   ]
  },
  {
   "cell_type": "code",
   "execution_count": 138,
   "id": "58831726",
   "metadata": {},
   "outputs": [],
   "source": [
    "e2=Employee('Ramesh',100)"
   ]
  },
  {
   "cell_type": "code",
   "execution_count": 139,
   "id": "1a6108eb",
   "metadata": {},
   "outputs": [
    {
     "name": "stdout",
     "output_type": "stream",
     "text": [
      "Hello,Good Morning. My name is Ramesh, and I am 100 years old. My Id is 101\n"
     ]
    }
   ],
   "source": [
    "e2.introduce()"
   ]
  },
  {
   "cell_type": "code",
   "execution_count": 140,
   "id": "cbe67521",
   "metadata": {},
   "outputs": [
    {
     "data": {
      "text/plain": [
       "2"
      ]
     },
     "execution_count": 140,
     "metadata": {},
     "output_type": "execute_result"
    }
   ],
   "source": [
    "Employee.number_of_employee"
   ]
  },
  {
   "cell_type": "code",
   "execution_count": 141,
   "id": "ca6d2d34",
   "metadata": {},
   "outputs": [
    {
     "data": {
      "text/plain": [
       "[(name=Parth, age=60), (name=Ramesh, age=100)]"
      ]
     },
     "execution_count": 141,
     "metadata": {},
     "output_type": "execute_result"
    }
   ],
   "source": [
    "Employee.employee_database\n"
   ]
  },
  {
   "cell_type": "code",
   "execution_count": 142,
   "id": "8804b829",
   "metadata": {},
   "outputs": [],
   "source": [
    "e1.fire()"
   ]
  },
  {
   "cell_type": "code",
   "execution_count": 143,
   "id": "f4491085",
   "metadata": {},
   "outputs": [
    {
     "data": {
      "text/plain": [
       "1"
      ]
     },
     "execution_count": 143,
     "metadata": {},
     "output_type": "execute_result"
    }
   ],
   "source": [
    "Employee.number_of_employee"
   ]
  },
  {
   "cell_type": "code",
   "execution_count": 144,
   "id": "29ace15b",
   "metadata": {},
   "outputs": [],
   "source": [
    "e2.fire()"
   ]
  },
  {
   "cell_type": "code",
   "execution_count": 145,
   "id": "b109f516",
   "metadata": {},
   "outputs": [
    {
     "data": {
      "text/plain": [
       "0"
      ]
     },
     "execution_count": 145,
     "metadata": {},
     "output_type": "execute_result"
    }
   ],
   "source": [
    "Employee.number_of_employee"
   ]
  },
  {
   "cell_type": "code",
   "execution_count": 146,
   "id": "74a1085f",
   "metadata": {},
   "outputs": [
    {
     "name": "stdout",
     "output_type": "stream",
     "text": [
      "Cannot fire this employee. He is already fired\n"
     ]
    }
   ],
   "source": [
    "e1.fire()"
   ]
  },
  {
   "cell_type": "code",
   "execution_count": 147,
   "id": "a06d80ac",
   "metadata": {},
   "outputs": [],
   "source": [
    "class Manager(Employee):\n",
    "    def __init__(self,name,age):\n",
    "        super().__init__(name,age)\n",
    "        self.role='Manager'\n",
    "    \n",
    "    def fire_emp(self,emp):\n",
    "        if(emp.is_working):\n",
    "            print(f'{self.name} has fired {emp.name}')\n",
    "            emp.fire()\n",
    "        else:\n",
    "            print('cannot fire, already fired')"
   ]
  },
  {
   "cell_type": "code",
   "execution_count": 148,
   "id": "c677f3ca",
   "metadata": {},
   "outputs": [],
   "source": [
    "m1= Manager('Prateek',90)"
   ]
  },
  {
   "cell_type": "code",
   "execution_count": 149,
   "id": "81dec1c2",
   "metadata": {},
   "outputs": [
    {
     "name": "stdout",
     "output_type": "stream",
     "text": [
      "(name=Prateek, age=90)\n"
     ]
    }
   ],
   "source": [
    "print(m1)"
   ]
  },
  {
   "cell_type": "code",
   "execution_count": 150,
   "id": "eb3a3ae6",
   "metadata": {},
   "outputs": [
    {
     "data": {
      "text/plain": [
       "1"
      ]
     },
     "execution_count": 150,
     "metadata": {},
     "output_type": "execute_result"
    }
   ],
   "source": [
    "Employee.number_of_employee"
   ]
  },
  {
   "cell_type": "code",
   "execution_count": 151,
   "id": "1c674ecb",
   "metadata": {},
   "outputs": [],
   "source": [
    "e1=Employee('Sakshi',26)\n",
    "e2=Employee('Surekha',30)\n",
    "e3=Employee('Arun',24)"
   ]
  },
  {
   "cell_type": "code",
   "execution_count": 152,
   "id": "0b383f78",
   "metadata": {},
   "outputs": [
    {
     "data": {
      "text/plain": [
       "4"
      ]
     },
     "execution_count": 152,
     "metadata": {},
     "output_type": "execute_result"
    }
   ],
   "source": [
    "Employee.number_of_employee"
   ]
  },
  {
   "cell_type": "code",
   "execution_count": 153,
   "id": "685acd9d",
   "metadata": {},
   "outputs": [
    {
     "name": "stdout",
     "output_type": "stream",
     "text": [
      "Prateek has fired Sakshi\n"
     ]
    }
   ],
   "source": [
    "m1.fire_emp(e1)"
   ]
  },
  {
   "cell_type": "code",
   "execution_count": 154,
   "id": "20448517",
   "metadata": {},
   "outputs": [
    {
     "data": {
      "text/plain": [
       "3"
      ]
     },
     "execution_count": 154,
     "metadata": {},
     "output_type": "execute_result"
    }
   ],
   "source": [
    "Employee.number_of_employee"
   ]
  },
  {
   "cell_type": "code",
   "execution_count": 155,
   "id": "761abc22",
   "metadata": {},
   "outputs": [
    {
     "data": {
      "text/plain": [
       "False"
      ]
     },
     "execution_count": 155,
     "metadata": {},
     "output_type": "execute_result"
    }
   ],
   "source": [
    "e1.is_working"
   ]
  },
  {
   "cell_type": "code",
   "execution_count": null,
   "id": "ed2cacdb",
   "metadata": {},
   "outputs": [],
   "source": []
  }
 ],
 "metadata": {
  "kernelspec": {
   "display_name": "Python 3 (ipykernel)",
   "language": "python",
   "name": "python3"
  },
  "language_info": {
   "codemirror_mode": {
    "name": "ipython",
    "version": 3
   },
   "file_extension": ".py",
   "mimetype": "text/x-python",
   "name": "python",
   "nbconvert_exporter": "python",
   "pygments_lexer": "ipython3",
   "version": "3.9.12"
  }
 },
 "nbformat": 4,
 "nbformat_minor": 5
}
