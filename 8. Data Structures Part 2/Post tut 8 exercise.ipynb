{
 "cells": [
  {
   "cell_type": "code",
   "execution_count": null,
   "id": "ff9d2178",
   "metadata": {},
   "outputs": [],
   "source": [
    "# find the element which is maximum in value in the list \n",
    "# eg [3,4,6]=> answer 6\n",
    "\n",
    "import random\n",
    "\n",
    "my_list=[]\n",
    "for i in range(1,1001):\n",
    "    n=random.randint(1,1000)\n",
    "    my_list.append(n)\n",
    "# the above code creates a list of 1000 numbers you have to find the number which is maximum in value\n",
    "\n",
    "#write your code here \n",
    "\n",
    "\n",
    "print(f'The maximum number is {ans}')"
   ]
  },
  {
   "cell_type": "code",
   "execution_count": 5,
   "id": "8c3f0fd4",
   "metadata": {},
   "outputs": [],
   "source": [
    "# convert 1st element to positive and second element to negative in list of tuples\n",
    "# eg [(1,2),(-2,4),(-3,-1),(5,-2)] => answer [(1,-2),(2,-4),(3,-1),(5,-2)]\n",
    "\n",
    "list1 = [(3, -1), (-4, -3), (1, 3), (-2, 5), (-4, 2), (-9, -3)]\n",
    "# write your code here \n",
    "\n",
    "print(ans)"
   ]
  },
  {
   "cell_type": "code",
   "execution_count": null,
   "id": "a74ac92f",
   "metadata": {},
   "outputs": [],
   "source": [
    "#separate the numbers from the string \n",
    "#eg 'NIFTY17000PE' => answer ['NIFTY', '17000', 'PE']\n",
    "\n",
    "string='NIFTY17000PE5SEP2022BUYATPRICE130RS'\n",
    "\n",
    "# write your code here \n",
    "\n",
    "print(ans) #note your answer should be in list "
   ]
  },
  {
   "cell_type": "code",
   "execution_count": null,
   "id": "2e0f4c66",
   "metadata": {},
   "outputs": [],
   "source": [
    "# count the number of vowels in the string \n",
    "# eg  'hello' => answer 2 (vowels e and o )\n",
    "\n",
    "string = 'Hello my name is Ritesh and I am a Trader who earns consisten profit through system trading'\n",
    "\n",
    "print(ans)"
   ]
  },
  {
   "cell_type": "code",
   "execution_count": null,
   "id": "51b2dd2b",
   "metadata": {},
   "outputs": [],
   "source": [
    "# sort the list in ascending order \n",
    "# note , do not use .sort() method \n",
    "import random\n",
    "\n",
    "list2=[]\n",
    "answerList=[]\n",
    "for i in range(1,101):\n",
    "    n=random.randint(1,1000)\n",
    "    my_list.append(n)\n",
    "\n",
    "    \n",
    "#write your code here     \n",
    "    \n",
    "print(list2)\n",
    "print(f'sorted list is {answerList}')\n",
    "    "
   ]
  },
  {
   "cell_type": "code",
   "execution_count": null,
   "id": "563b869f",
   "metadata": {},
   "outputs": [],
   "source": [
    "# which letter has occured maximum times in a string\n",
    "# do not use loops inside of loops , use dictionaries \n",
    "# eg 'Hello' => answer l (l has occured 2 time which is maximum)\n",
    "\n",
    "string='Hello my name is Khan and I am not a discreate trader, I work in Infosys and have savings invested in fds, but fds dont help me in beating the inflation hence I use algotrading to automate my trades and earn upto 20% on my portfolio and beat the market as well'\n",
    "\n",
    "#write your code here \n",
    "\n",
    "print(f'letter which is occured maximum time is {ans}')"
   ]
  },
  {
   "cell_type": "code",
   "execution_count": null,
   "id": "ca858d3d",
   "metadata": {},
   "outputs": [],
   "source": []
  }
 ],
 "metadata": {
  "kernelspec": {
   "display_name": "Python 3 (ipykernel)",
   "language": "python",
   "name": "python3"
  },
  "language_info": {
   "codemirror_mode": {
    "name": "ipython",
    "version": 3
   },
   "file_extension": ".py",
   "mimetype": "text/x-python",
   "name": "python",
   "nbconvert_exporter": "python",
   "pygments_lexer": "ipython3",
   "version": "3.9.12"
  }
 },
 "nbformat": 4,
 "nbformat_minor": 5
}
