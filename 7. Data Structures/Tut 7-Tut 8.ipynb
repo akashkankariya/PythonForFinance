{
 "cells": [
  {
   "cell_type": "markdown",
   "id": "d20a68bd",
   "metadata": {},
   "source": [
    "# Data Structures\n",
    "- Strings\n",
    "- list\n",
    "- tuples\n",
    "- sets\n",
    "- dictonary\n"
   ]
  },
  {
   "cell_type": "markdown",
   "id": "42cf5295",
   "metadata": {},
   "source": [
    "# Strings"
   ]
  },
  {
   "cell_type": "markdown",
   "id": "96c041da",
   "metadata": {},
   "source": [
    "String Slicing"
   ]
  },
  {
   "cell_type": "code",
   "execution_count": 3,
   "id": "1795f934",
   "metadata": {},
   "outputs": [],
   "source": [
    "my_string = 'Hello this is a sample string'"
   ]
  },
  {
   "cell_type": "code",
   "execution_count": 4,
   "id": "05fd4f38",
   "metadata": {},
   "outputs": [
    {
     "name": "stdout",
     "output_type": "stream",
     "text": [
      "H\n"
     ]
    }
   ],
   "source": [
    "print(my_string[0])"
   ]
  },
  {
   "cell_type": "code",
   "execution_count": 5,
   "id": "9a2321e8",
   "metadata": {},
   "outputs": [
    {
     "data": {
      "text/plain": [
       "29"
      ]
     },
     "execution_count": 5,
     "metadata": {},
     "output_type": "execute_result"
    }
   ],
   "source": [
    "len(my_string)"
   ]
  },
  {
   "cell_type": "code",
   "execution_count": 6,
   "id": "84a1309f",
   "metadata": {},
   "outputs": [
    {
     "name": "stdout",
     "output_type": "stream",
     "text": [
      "g\n"
     ]
    }
   ],
   "source": [
    "print(my_string[28])"
   ]
  },
  {
   "cell_type": "code",
   "execution_count": 8,
   "id": "42c25fa1",
   "metadata": {},
   "outputs": [
    {
     "name": "stdout",
     "output_type": "stream",
     "text": [
      " this i\n"
     ]
    }
   ],
   "source": [
    "print(my_string[5:12])"
   ]
  },
  {
   "cell_type": "code",
   "execution_count": 9,
   "id": "45156a42",
   "metadata": {},
   "outputs": [
    {
     "name": "stdout",
     "output_type": "stream",
     "text": [
      "g\n"
     ]
    }
   ],
   "source": [
    "print(my_string[-1])"
   ]
  },
  {
   "cell_type": "code",
   "execution_count": 10,
   "id": "30f1dcef",
   "metadata": {},
   "outputs": [
    {
     "name": "stdout",
     "output_type": "stream",
     "text": [
      "n\n"
     ]
    }
   ],
   "source": [
    "print(my_string[-2])"
   ]
  },
  {
   "cell_type": "code",
   "execution_count": 13,
   "id": "bc1a1f85",
   "metadata": {},
   "outputs": [
    {
     "name": "stdout",
     "output_type": "stream",
     "text": [
      "Hello\n"
     ]
    }
   ],
   "source": [
    "print(my_string[:5])"
   ]
  },
  {
   "cell_type": "code",
   "execution_count": 14,
   "id": "eec1b7c4",
   "metadata": {},
   "outputs": [
    {
     "name": "stdout",
     "output_type": "stream",
     "text": [
      " this is a sample string\n"
     ]
    }
   ],
   "source": [
    "print(my_string[5:])"
   ]
  },
  {
   "cell_type": "markdown",
   "id": "1cf9f7f8",
   "metadata": {},
   "source": [
    "# String methods"
   ]
  },
  {
   "cell_type": "code",
   "execution_count": 24,
   "id": "caeb43e6",
   "metadata": {},
   "outputs": [
    {
     "name": "stdout",
     "output_type": "stream",
     "text": [
      "Hello This Is A Sample String\n"
     ]
    }
   ],
   "source": [
    "print(my_string.title())"
   ]
  },
  {
   "cell_type": "code",
   "execution_count": 25,
   "id": "bd0a239b",
   "metadata": {},
   "outputs": [
    {
     "name": "stdout",
     "output_type": "stream",
     "text": [
      "HELLO THIS IS A SAMPLE STRING\n"
     ]
    }
   ],
   "source": [
    "print(my_string.upper())"
   ]
  },
  {
   "cell_type": "code",
   "execution_count": 26,
   "id": "88248d76",
   "metadata": {},
   "outputs": [
    {
     "name": "stdout",
     "output_type": "stream",
     "text": [
      "hello this is a sample string\n"
     ]
    }
   ],
   "source": [
    "print(my_string.lower())"
   ]
  },
  {
   "cell_type": "code",
   "execution_count": 27,
   "id": "460946dc",
   "metadata": {},
   "outputs": [
    {
     "name": "stdout",
     "output_type": "stream",
     "text": [
      "Hello this is a sample string\n"
     ]
    }
   ],
   "source": [
    "print(my_string)"
   ]
  },
  {
   "cell_type": "code",
   "execution_count": 28,
   "id": "11c1d16b",
   "metadata": {},
   "outputs": [],
   "source": [
    "my_string = my_string.upper()"
   ]
  },
  {
   "cell_type": "code",
   "execution_count": 29,
   "id": "6ebf1f50",
   "metadata": {},
   "outputs": [
    {
     "name": "stdout",
     "output_type": "stream",
     "text": [
      "HELLO THIS IS A SAMPLE STRING\n"
     ]
    }
   ],
   "source": [
    "print(my_string)"
   ]
  },
  {
   "cell_type": "code",
   "execution_count": 30,
   "id": "31589bea",
   "metadata": {},
   "outputs": [],
   "source": [
    "my_string = '     Hello My name is Parth'"
   ]
  },
  {
   "cell_type": "code",
   "execution_count": 31,
   "id": "1c9cd913",
   "metadata": {},
   "outputs": [
    {
     "name": "stdout",
     "output_type": "stream",
     "text": [
      "     Hello My name is Parth\n"
     ]
    }
   ],
   "source": [
    "print(my_string)"
   ]
  },
  {
   "cell_type": "code",
   "execution_count": 32,
   "id": "6393ec3c",
   "metadata": {},
   "outputs": [],
   "source": [
    "my_string = my_string.strip()"
   ]
  },
  {
   "cell_type": "code",
   "execution_count": 33,
   "id": "460f4e19",
   "metadata": {},
   "outputs": [
    {
     "name": "stdout",
     "output_type": "stream",
     "text": [
      "Hello My name is Parth\n"
     ]
    }
   ],
   "source": [
    "print(my_string)"
   ]
  },
  {
   "cell_type": "code",
   "execution_count": 34,
   "id": "02d5275b",
   "metadata": {},
   "outputs": [],
   "source": [
    "my_string_words=my_string.split(' ')"
   ]
  },
  {
   "cell_type": "code",
   "execution_count": 36,
   "id": "0683b959",
   "metadata": {},
   "outputs": [
    {
     "name": "stdout",
     "output_type": "stream",
     "text": [
      "['Hello', 'My', 'name', 'is', 'Parth']\n"
     ]
    }
   ],
   "source": [
    "print(my_string_words)"
   ]
  },
  {
   "cell_type": "code",
   "execution_count": 37,
   "id": "91b08677",
   "metadata": {},
   "outputs": [],
   "source": [
    "my_string='Hello-I-am-Parth-making-this-video-for-you'"
   ]
  },
  {
   "cell_type": "code",
   "execution_count": 38,
   "id": "eaa21747",
   "metadata": {},
   "outputs": [],
   "source": [
    "my_string_words=my_string.split('-')"
   ]
  },
  {
   "cell_type": "code",
   "execution_count": 39,
   "id": "3dc03519",
   "metadata": {},
   "outputs": [
    {
     "name": "stdout",
     "output_type": "stream",
     "text": [
      "['Hello', 'I', 'am', 'Parth', 'making', 'this', 'video', 'for', 'you']\n"
     ]
    }
   ],
   "source": [
    "print(my_string_words)"
   ]
  },
  {
   "cell_type": "code",
   "execution_count": 120,
   "id": "0e50e228",
   "metadata": {},
   "outputs": [
    {
     "name": "stdout",
     "output_type": "stream",
     "text": [
      "Hello-I-am-Parth-making-this-video-for-you\n"
     ]
    }
   ],
   "source": [
    "print(my_string)"
   ]
  },
  {
   "cell_type": "code",
   "execution_count": 121,
   "id": "c0526046",
   "metadata": {},
   "outputs": [
    {
     "data": {
      "text/plain": [
       "9"
      ]
     },
     "execution_count": 121,
     "metadata": {},
     "output_type": "execute_result"
    }
   ],
   "source": [
    "my_string.find('m')"
   ]
  },
  {
   "cell_type": "code",
   "execution_count": 123,
   "id": "88a5af1a",
   "metadata": {},
   "outputs": [
    {
     "data": {
      "text/plain": [
       "17"
      ]
     },
     "execution_count": 123,
     "metadata": {},
     "output_type": "execute_result"
    }
   ],
   "source": [
    "my_string.find('making')"
   ]
  },
  {
   "cell_type": "markdown",
   "id": "b16bb9f4",
   "metadata": {},
   "source": [
    "# Operations on String"
   ]
  },
  {
   "cell_type": "code",
   "execution_count": 40,
   "id": "7e44c52d",
   "metadata": {},
   "outputs": [],
   "source": [
    "string1='My name is '\n",
    "string2='Parth'"
   ]
  },
  {
   "cell_type": "code",
   "execution_count": 41,
   "id": "974f2d79",
   "metadata": {},
   "outputs": [],
   "source": [
    "string = string1+string2 #concatenation of string"
   ]
  },
  {
   "cell_type": "code",
   "execution_count": 42,
   "id": "ccf3cf22",
   "metadata": {},
   "outputs": [
    {
     "name": "stdout",
     "output_type": "stream",
     "text": [
      "My name is Parth\n"
     ]
    }
   ],
   "source": [
    "print(string)"
   ]
  },
  {
   "cell_type": "code",
   "execution_count": 45,
   "id": "11913397",
   "metadata": {},
   "outputs": [
    {
     "name": "stdout",
     "output_type": "stream",
     "text": [
      "ParthParthParthParthParthParthParthParthParthParth\n"
     ]
    }
   ],
   "source": [
    "print(string2*10)"
   ]
  },
  {
   "cell_type": "code",
   "execution_count": 46,
   "id": "f364f6af",
   "metadata": {},
   "outputs": [],
   "source": [
    "string1= 'My age is '\n",
    "age = 34"
   ]
  },
  {
   "cell_type": "code",
   "execution_count": 48,
   "id": "5ad2fef1",
   "metadata": {},
   "outputs": [
    {
     "name": "stdout",
     "output_type": "stream",
     "text": [
      "My age is 34\n"
     ]
    }
   ],
   "source": [
    "print(string1+str(age))"
   ]
  },
  {
   "cell_type": "markdown",
   "id": "650a356d",
   "metadata": {},
   "source": [
    "# Lists\n",
    "- methods \n",
    "- comprehension\n"
   ]
  },
  {
   "cell_type": "code",
   "execution_count": 49,
   "id": "3a9b86c3",
   "metadata": {},
   "outputs": [],
   "source": [
    "my_list=[23,45,67.5,'Parth',True]"
   ]
  },
  {
   "cell_type": "code",
   "execution_count": 50,
   "id": "277a43fe",
   "metadata": {},
   "outputs": [
    {
     "name": "stdout",
     "output_type": "stream",
     "text": [
      "[23, 45, 67.5, 'Parth', True]\n"
     ]
    }
   ],
   "source": [
    "print(my_list)"
   ]
  },
  {
   "cell_type": "code",
   "execution_count": 54,
   "id": "19f71471",
   "metadata": {},
   "outputs": [
    {
     "name": "stdout",
     "output_type": "stream",
     "text": [
      "True\n"
     ]
    }
   ],
   "source": [
    "for item in my_list:\n",
    "    if(type(item)==bool):\n",
    "        print(item)"
   ]
  },
  {
   "cell_type": "code",
   "execution_count": 56,
   "id": "c1162370",
   "metadata": {},
   "outputs": [
    {
     "data": {
      "text/plain": [
       "True"
      ]
     },
     "execution_count": 56,
     "metadata": {},
     "output_type": "execute_result"
    }
   ],
   "source": [
    "my_list[-1]"
   ]
  },
  {
   "cell_type": "code",
   "execution_count": 58,
   "id": "a0d7a9ed",
   "metadata": {},
   "outputs": [
    {
     "data": {
      "text/plain": [
       "[67.5, 'Parth']"
      ]
     },
     "execution_count": 58,
     "metadata": {},
     "output_type": "execute_result"
    }
   ],
   "source": [
    "my_list[2:4]"
   ]
  },
  {
   "cell_type": "code",
   "execution_count": 59,
   "id": "b9c3a8ac",
   "metadata": {},
   "outputs": [
    {
     "data": {
      "text/plain": [
       "5"
      ]
     },
     "execution_count": 59,
     "metadata": {},
     "output_type": "execute_result"
    }
   ],
   "source": [
    "len(my_list)"
   ]
  },
  {
   "cell_type": "markdown",
   "id": "b7ee9f21",
   "metadata": {},
   "source": [
    "- append\n",
    "- insert\n",
    "- pop\n",
    "- remove\n",
    "- reverse\n",
    "- sort\n",
    "- extend"
   ]
  },
  {
   "cell_type": "code",
   "execution_count": 87,
   "id": "fd3b7471",
   "metadata": {},
   "outputs": [],
   "source": [
    "my_list = [45,23,54,1,7,34,13]"
   ]
  },
  {
   "cell_type": "code",
   "execution_count": 88,
   "id": "124f4f33",
   "metadata": {},
   "outputs": [
    {
     "name": "stdout",
     "output_type": "stream",
     "text": [
      "[45, 23, 54, 1, 7, 34, 13]\n"
     ]
    }
   ],
   "source": [
    "print(my_list)"
   ]
  },
  {
   "cell_type": "code",
   "execution_count": 89,
   "id": "e7ab9384",
   "metadata": {},
   "outputs": [],
   "source": [
    "my_list.append(6)"
   ]
  },
  {
   "cell_type": "code",
   "execution_count": 90,
   "id": "93aeb203",
   "metadata": {},
   "outputs": [
    {
     "name": "stdout",
     "output_type": "stream",
     "text": [
      "[45, 23, 54, 1, 7, 34, 13, 6]\n"
     ]
    }
   ],
   "source": [
    "print(my_list)"
   ]
  },
  {
   "cell_type": "code",
   "execution_count": 91,
   "id": "bbac70d6",
   "metadata": {},
   "outputs": [],
   "source": [
    "my_list.insert(2,17)"
   ]
  },
  {
   "cell_type": "code",
   "execution_count": 92,
   "id": "edb156e7",
   "metadata": {},
   "outputs": [
    {
     "name": "stdout",
     "output_type": "stream",
     "text": [
      "[45, 23, 17, 54, 1, 7, 34, 13, 6]\n"
     ]
    }
   ],
   "source": [
    "print(my_list)"
   ]
  },
  {
   "cell_type": "code",
   "execution_count": 93,
   "id": "3860e627",
   "metadata": {},
   "outputs": [
    {
     "data": {
      "text/plain": [
       "9"
      ]
     },
     "execution_count": 93,
     "metadata": {},
     "output_type": "execute_result"
    }
   ],
   "source": [
    "len(my_list)"
   ]
  },
  {
   "cell_type": "code",
   "execution_count": 94,
   "id": "396acde4",
   "metadata": {},
   "outputs": [
    {
     "name": "stdout",
     "output_type": "stream",
     "text": [
      "6\n"
     ]
    }
   ],
   "source": [
    "d = my_list.pop()\n",
    "print(d)"
   ]
  },
  {
   "cell_type": "code",
   "execution_count": 95,
   "id": "59170516",
   "metadata": {},
   "outputs": [
    {
     "name": "stdout",
     "output_type": "stream",
     "text": [
      "[45, 23, 17, 54, 1, 7, 34, 13]\n"
     ]
    }
   ],
   "source": [
    "print(my_list)"
   ]
  },
  {
   "cell_type": "code",
   "execution_count": 96,
   "id": "c02a48b7",
   "metadata": {},
   "outputs": [
    {
     "name": "stdout",
     "output_type": "stream",
     "text": [
      "17\n"
     ]
    }
   ],
   "source": [
    "d = my_list.pop(2)\n",
    "print(d)"
   ]
  },
  {
   "cell_type": "code",
   "execution_count": 97,
   "id": "a667fa19",
   "metadata": {},
   "outputs": [
    {
     "name": "stdout",
     "output_type": "stream",
     "text": [
      "[45, 23, 54, 1, 7, 34, 13]\n"
     ]
    }
   ],
   "source": [
    "print(my_list)"
   ]
  },
  {
   "cell_type": "code",
   "execution_count": 98,
   "id": "bd2d6b72",
   "metadata": {},
   "outputs": [],
   "source": [
    "my_list.reverse()"
   ]
  },
  {
   "cell_type": "code",
   "execution_count": 99,
   "id": "d95ee7eb",
   "metadata": {},
   "outputs": [
    {
     "name": "stdout",
     "output_type": "stream",
     "text": [
      "[13, 34, 7, 1, 54, 23, 45]\n"
     ]
    }
   ],
   "source": [
    "print(my_list)"
   ]
  },
  {
   "cell_type": "code",
   "execution_count": 100,
   "id": "b0f98410",
   "metadata": {},
   "outputs": [],
   "source": [
    "my_list.sort()"
   ]
  },
  {
   "cell_type": "code",
   "execution_count": 103,
   "id": "8c52af4f",
   "metadata": {},
   "outputs": [
    {
     "name": "stdout",
     "output_type": "stream",
     "text": [
      "[1, 7, 13, 23, 34, 45, 54]\n"
     ]
    }
   ],
   "source": [
    "print(my_list)"
   ]
  },
  {
   "cell_type": "code",
   "execution_count": 104,
   "id": "c4e1aa43",
   "metadata": {},
   "outputs": [],
   "source": [
    "my_list.reverse()"
   ]
  },
  {
   "cell_type": "code",
   "execution_count": 105,
   "id": "8c1a32cf",
   "metadata": {},
   "outputs": [
    {
     "name": "stdout",
     "output_type": "stream",
     "text": [
      "[54, 45, 34, 23, 13, 7, 1]\n"
     ]
    }
   ],
   "source": [
    "print(my_list)"
   ]
  },
  {
   "cell_type": "code",
   "execution_count": 106,
   "id": "ba388007",
   "metadata": {},
   "outputs": [
    {
     "data": {
      "text/plain": [
       "[54, 45, 34, 23, 13, 7, 1]"
      ]
     },
     "execution_count": 106,
     "metadata": {},
     "output_type": "execute_result"
    }
   ],
   "source": [
    "my_list\n"
   ]
  },
  {
   "cell_type": "code",
   "execution_count": 107,
   "id": "e4bb24ee",
   "metadata": {},
   "outputs": [],
   "source": [
    "my_list2=[2,3,5,89]"
   ]
  },
  {
   "cell_type": "code",
   "execution_count": 108,
   "id": "7e44f3ea",
   "metadata": {},
   "outputs": [],
   "source": [
    "my_list.append(my_list2)"
   ]
  },
  {
   "cell_type": "code",
   "execution_count": 109,
   "id": "549e5ecf",
   "metadata": {},
   "outputs": [
    {
     "name": "stdout",
     "output_type": "stream",
     "text": [
      "[54, 45, 34, 23, 13, 7, 1, [2, 3, 5, 89]]\n"
     ]
    }
   ],
   "source": [
    "print(my_list)"
   ]
  },
  {
   "cell_type": "code",
   "execution_count": 110,
   "id": "c9e19089",
   "metadata": {},
   "outputs": [
    {
     "data": {
      "text/plain": [
       "[2, 3, 5, 89]"
      ]
     },
     "execution_count": 110,
     "metadata": {},
     "output_type": "execute_result"
    }
   ],
   "source": [
    "my_list.pop()"
   ]
  },
  {
   "cell_type": "code",
   "execution_count": 111,
   "id": "33badf88",
   "metadata": {},
   "outputs": [],
   "source": [
    "my_list.extend(my_list2)"
   ]
  },
  {
   "cell_type": "code",
   "execution_count": 112,
   "id": "4df836cb",
   "metadata": {},
   "outputs": [
    {
     "name": "stdout",
     "output_type": "stream",
     "text": [
      "[54, 45, 34, 23, 13, 7, 1, 2, 3, 5, 89]\n"
     ]
    }
   ],
   "source": [
    "print(my_list)"
   ]
  },
  {
   "cell_type": "markdown",
   "id": "794fee3d",
   "metadata": {},
   "source": [
    "# List comprehension"
   ]
  },
  {
   "cell_type": "code",
   "execution_count": 113,
   "id": "01a0cc72",
   "metadata": {},
   "outputs": [],
   "source": [
    "list_1=[1,2,3,4,5,6,7,8,9]\n"
   ]
  },
  {
   "cell_type": "code",
   "execution_count": 114,
   "id": "84b7bc2b",
   "metadata": {},
   "outputs": [],
   "source": [
    "list_2 =[]\n",
    "for ele in list_1:\n",
    "    list_2.append(ele**2)"
   ]
  },
  {
   "cell_type": "code",
   "execution_count": 115,
   "id": "19993881",
   "metadata": {},
   "outputs": [
    {
     "name": "stdout",
     "output_type": "stream",
     "text": [
      "[1, 4, 9, 16, 25, 36, 49, 64, 81]\n"
     ]
    }
   ],
   "source": [
    "print(list_2)"
   ]
  },
  {
   "cell_type": "code",
   "execution_count": 116,
   "id": "103064a8",
   "metadata": {},
   "outputs": [],
   "source": [
    "list_2 = [ele**2 for ele in list_1]"
   ]
  },
  {
   "cell_type": "code",
   "execution_count": 117,
   "id": "6aba9c54",
   "metadata": {},
   "outputs": [
    {
     "name": "stdout",
     "output_type": "stream",
     "text": [
      "[1, 4, 9, 16, 25, 36, 49, 64, 81]\n"
     ]
    }
   ],
   "source": [
    "print(list_2)"
   ]
  },
  {
   "cell_type": "code",
   "execution_count": 118,
   "id": "df5e38f6",
   "metadata": {},
   "outputs": [],
   "source": [
    "list_3 = [ele**3 for ele in list_1]"
   ]
  },
  {
   "cell_type": "code",
   "execution_count": 119,
   "id": "bbcd9f14",
   "metadata": {},
   "outputs": [
    {
     "name": "stdout",
     "output_type": "stream",
     "text": [
      "[1, 8, 27, 64, 125, 216, 343, 512, 729]\n"
     ]
    }
   ],
   "source": [
    "print(list_3)"
   ]
  },
  {
   "cell_type": "markdown",
   "id": "6a781aa3",
   "metadata": {},
   "source": [
    "# TUT8"
   ]
  },
  {
   "cell_type": "markdown",
   "id": "3b99ff0e",
   "metadata": {},
   "source": [
    "# Tuples"
   ]
  },
  {
   "cell_type": "code",
   "execution_count": 124,
   "id": "bf4671e8",
   "metadata": {},
   "outputs": [],
   "source": [
    "list_1=[1,2,3,4]"
   ]
  },
  {
   "cell_type": "code",
   "execution_count": 125,
   "id": "f00a7a0f",
   "metadata": {},
   "outputs": [
    {
     "data": {
      "text/plain": [
       "3"
      ]
     },
     "execution_count": 125,
     "metadata": {},
     "output_type": "execute_result"
    }
   ],
   "source": [
    "list_1[2]"
   ]
  },
  {
   "cell_type": "code",
   "execution_count": 126,
   "id": "9dfe7984",
   "metadata": {},
   "outputs": [],
   "source": [
    "list_1[2]=56"
   ]
  },
  {
   "cell_type": "code",
   "execution_count": 127,
   "id": "517e8135",
   "metadata": {},
   "outputs": [
    {
     "name": "stdout",
     "output_type": "stream",
     "text": [
      "[1, 2, 56, 4]\n"
     ]
    }
   ],
   "source": [
    "print(list_1)"
   ]
  },
  {
   "cell_type": "code",
   "execution_count": 128,
   "id": "1458f1ef",
   "metadata": {},
   "outputs": [],
   "source": [
    "tup_1=(1,2,3,4)"
   ]
  },
  {
   "cell_type": "code",
   "execution_count": 129,
   "id": "abf4ea33",
   "metadata": {},
   "outputs": [
    {
     "name": "stdout",
     "output_type": "stream",
     "text": [
      "(1, 2, 3, 4)\n"
     ]
    }
   ],
   "source": [
    "print(tup_1)"
   ]
  },
  {
   "cell_type": "code",
   "execution_count": 130,
   "id": "37e39efd",
   "metadata": {},
   "outputs": [
    {
     "data": {
      "text/plain": [
       "3"
      ]
     },
     "execution_count": 130,
     "metadata": {},
     "output_type": "execute_result"
    }
   ],
   "source": [
    "tup_1[2]"
   ]
  },
  {
   "cell_type": "code",
   "execution_count": 131,
   "id": "ca1c06bf",
   "metadata": {},
   "outputs": [
    {
     "ename": "TypeError",
     "evalue": "'tuple' object does not support item assignment",
     "output_type": "error",
     "traceback": [
      "\u001b[1;31m---------------------------------------------------------------------------\u001b[0m",
      "\u001b[1;31mTypeError\u001b[0m                                 Traceback (most recent call last)",
      "Input \u001b[1;32mIn [131]\u001b[0m, in \u001b[0;36m<cell line: 1>\u001b[1;34m()\u001b[0m\n\u001b[1;32m----> 1\u001b[0m tup_1[\u001b[38;5;241m2\u001b[39m]\u001b[38;5;241m=\u001b[39m\u001b[38;5;241m56\u001b[39m\n",
      "\u001b[1;31mTypeError\u001b[0m: 'tuple' object does not support item assignment"
     ]
    }
   ],
   "source": [
    "tup_1[2]=56"
   ]
  },
  {
   "cell_type": "code",
   "execution_count": 132,
   "id": "dca6f6b8",
   "metadata": {},
   "outputs": [],
   "source": [
    "#tuples are read-only lists"
   ]
  },
  {
   "cell_type": "code",
   "execution_count": 133,
   "id": "c5d19801",
   "metadata": {},
   "outputs": [
    {
     "ename": "TypeError",
     "evalue": "tuple.count() takes exactly one argument (0 given)",
     "output_type": "error",
     "traceback": [
      "\u001b[1;31m---------------------------------------------------------------------------\u001b[0m",
      "\u001b[1;31mTypeError\u001b[0m                                 Traceback (most recent call last)",
      "Input \u001b[1;32mIn [133]\u001b[0m, in \u001b[0;36m<cell line: 1>\u001b[1;34m()\u001b[0m\n\u001b[1;32m----> 1\u001b[0m \u001b[43mtup_1\u001b[49m\u001b[38;5;241;43m.\u001b[39;49m\u001b[43mcount\u001b[49m\u001b[43m(\u001b[49m\u001b[43m)\u001b[49m\n",
      "\u001b[1;31mTypeError\u001b[0m: tuple.count() takes exactly one argument (0 given)"
     ]
    }
   ],
   "source": [
    "tup_1.count()"
   ]
  },
  {
   "cell_type": "code",
   "execution_count": 134,
   "id": "ed4a617f",
   "metadata": {},
   "outputs": [],
   "source": [
    "tup_1 = (1,3,4,5,7,8,2,3,4,1,1,1,3,6,7,7,7)"
   ]
  },
  {
   "cell_type": "code",
   "execution_count": 135,
   "id": "38b5f5d5",
   "metadata": {},
   "outputs": [
    {
     "data": {
      "text/plain": [
       "4"
      ]
     },
     "execution_count": 135,
     "metadata": {},
     "output_type": "execute_result"
    }
   ],
   "source": [
    "tup_1.count(1)"
   ]
  },
  {
   "cell_type": "code",
   "execution_count": 136,
   "id": "25a3f141",
   "metadata": {},
   "outputs": [],
   "source": [
    "tup_1=([1,2,3],\"Hello \",1.2) #heterogenous tuple"
   ]
  },
  {
   "cell_type": "code",
   "execution_count": 137,
   "id": "9b8c7b8a",
   "metadata": {},
   "outputs": [],
   "source": [
    "tup = ('Parth')"
   ]
  },
  {
   "cell_type": "code",
   "execution_count": 138,
   "id": "8e6a24dd",
   "metadata": {},
   "outputs": [
    {
     "data": {
      "text/plain": [
       "str"
      ]
     },
     "execution_count": 138,
     "metadata": {},
     "output_type": "execute_result"
    }
   ],
   "source": [
    "type(tup)"
   ]
  },
  {
   "cell_type": "code",
   "execution_count": 139,
   "id": "41b292c7",
   "metadata": {},
   "outputs": [],
   "source": [
    "tup =('Parth',)"
   ]
  },
  {
   "cell_type": "code",
   "execution_count": 140,
   "id": "b61fd0d9",
   "metadata": {},
   "outputs": [
    {
     "data": {
      "text/plain": [
       "tuple"
      ]
     },
     "execution_count": 140,
     "metadata": {},
     "output_type": "execute_result"
    }
   ],
   "source": [
    "type(tup)"
   ]
  },
  {
   "cell_type": "code",
   "execution_count": 141,
   "id": "aac02ea8",
   "metadata": {},
   "outputs": [],
   "source": [
    "tup =(1,2,3)\n",
    "a,b,c=tup"
   ]
  },
  {
   "cell_type": "code",
   "execution_count": 142,
   "id": "5f4aca51",
   "metadata": {},
   "outputs": [
    {
     "name": "stdout",
     "output_type": "stream",
     "text": [
      "1 2 3\n"
     ]
    }
   ],
   "source": [
    "print(a,b,c)"
   ]
  },
  {
   "cell_type": "markdown",
   "id": "772da261",
   "metadata": {},
   "source": [
    "# Sets"
   ]
  },
  {
   "cell_type": "code",
   "execution_count": 143,
   "id": "d15a3a25",
   "metadata": {},
   "outputs": [],
   "source": [
    "s1={1,2,3,4}\n",
    "s2={2,4,6,8}"
   ]
  },
  {
   "cell_type": "code",
   "execution_count": 144,
   "id": "c4572a8a",
   "metadata": {},
   "outputs": [
    {
     "name": "stdout",
     "output_type": "stream",
     "text": [
      "{1, 2, 3, 4}\n"
     ]
    }
   ],
   "source": [
    "print(s1)"
   ]
  },
  {
   "cell_type": "code",
   "execution_count": 145,
   "id": "3058265e",
   "metadata": {},
   "outputs": [
    {
     "name": "stdout",
     "output_type": "stream",
     "text": [
      "1\n",
      "2\n",
      "3\n",
      "4\n"
     ]
    }
   ],
   "source": [
    "for ele in s1:\n",
    "    print(ele)"
   ]
  },
  {
   "cell_type": "code",
   "execution_count": 146,
   "id": "b1d7e08a",
   "metadata": {},
   "outputs": [
    {
     "ename": "TypeError",
     "evalue": "'set' object is not subscriptable",
     "output_type": "error",
     "traceback": [
      "\u001b[1;31m---------------------------------------------------------------------------\u001b[0m",
      "\u001b[1;31mTypeError\u001b[0m                                 Traceback (most recent call last)",
      "Input \u001b[1;32mIn [146]\u001b[0m, in \u001b[0;36m<cell line: 1>\u001b[1;34m()\u001b[0m\n\u001b[1;32m----> 1\u001b[0m \u001b[43ms1\u001b[49m\u001b[43m[\u001b[49m\u001b[38;5;241;43m0\u001b[39;49m\u001b[43m]\u001b[49m\n",
      "\u001b[1;31mTypeError\u001b[0m: 'set' object is not subscriptable"
     ]
    }
   ],
   "source": [
    "s1[0]"
   ]
  },
  {
   "cell_type": "code",
   "execution_count": 147,
   "id": "24acd94e",
   "metadata": {},
   "outputs": [],
   "source": [
    "s1.add(5)"
   ]
  },
  {
   "cell_type": "code",
   "execution_count": 148,
   "id": "465369fb",
   "metadata": {},
   "outputs": [
    {
     "name": "stdout",
     "output_type": "stream",
     "text": [
      "{1, 2, 3, 4, 5}\n"
     ]
    }
   ],
   "source": [
    "print(s1)"
   ]
  },
  {
   "cell_type": "code",
   "execution_count": 149,
   "id": "624aab3c",
   "metadata": {},
   "outputs": [],
   "source": [
    "s1.add(5)"
   ]
  },
  {
   "cell_type": "code",
   "execution_count": 150,
   "id": "09207fce",
   "metadata": {},
   "outputs": [
    {
     "name": "stdout",
     "output_type": "stream",
     "text": [
      "{1, 2, 3, 4, 5}\n"
     ]
    }
   ],
   "source": [
    "print(s1)"
   ]
  },
  {
   "cell_type": "code",
   "execution_count": 153,
   "id": "3c86f674",
   "metadata": {},
   "outputs": [],
   "source": [
    "s1.update([2,4,6,7])"
   ]
  },
  {
   "cell_type": "code",
   "execution_count": 154,
   "id": "22a53fab",
   "metadata": {},
   "outputs": [
    {
     "name": "stdout",
     "output_type": "stream",
     "text": [
      "{1, 2, 3, 4, 5, 6, 7}\n"
     ]
    }
   ],
   "source": [
    "print(s1)"
   ]
  },
  {
   "cell_type": "code",
   "execution_count": 155,
   "id": "78a68c20",
   "metadata": {},
   "outputs": [
    {
     "data": {
      "text/plain": [
       "{1, 2, 3, 4, 5, 6, 7}"
      ]
     },
     "execution_count": 155,
     "metadata": {},
     "output_type": "execute_result"
    }
   ],
   "source": [
    "s1"
   ]
  },
  {
   "cell_type": "code",
   "execution_count": 156,
   "id": "49af99fc",
   "metadata": {},
   "outputs": [
    {
     "data": {
      "text/plain": [
       "{2, 4, 6, 8}"
      ]
     },
     "execution_count": 156,
     "metadata": {},
     "output_type": "execute_result"
    }
   ],
   "source": [
    "s2"
   ]
  },
  {
   "cell_type": "code",
   "execution_count": 157,
   "id": "890c953a",
   "metadata": {},
   "outputs": [
    {
     "data": {
      "text/plain": [
       "{1, 2, 3, 4, 5, 6, 7, 8}"
      ]
     },
     "execution_count": 157,
     "metadata": {},
     "output_type": "execute_result"
    }
   ],
   "source": [
    "s1.union(s2)"
   ]
  },
  {
   "cell_type": "code",
   "execution_count": 158,
   "id": "d9dca1e7",
   "metadata": {},
   "outputs": [
    {
     "data": {
      "text/plain": [
       "{2, 4, 6}"
      ]
     },
     "execution_count": 158,
     "metadata": {},
     "output_type": "execute_result"
    }
   ],
   "source": [
    "s1.intersection(s2)"
   ]
  },
  {
   "cell_type": "code",
   "execution_count": 159,
   "id": "c073dc25",
   "metadata": {},
   "outputs": [
    {
     "data": {
      "text/plain": [
       "{1, 3, 5, 7}"
      ]
     },
     "execution_count": 159,
     "metadata": {},
     "output_type": "execute_result"
    }
   ],
   "source": [
    "s1-s2"
   ]
  },
  {
   "cell_type": "code",
   "execution_count": 160,
   "id": "c63bf148",
   "metadata": {},
   "outputs": [
    {
     "data": {
      "text/plain": [
       "{8}"
      ]
     },
     "execution_count": 160,
     "metadata": {},
     "output_type": "execute_result"
    }
   ],
   "source": [
    "s2-s1"
   ]
  },
  {
   "cell_type": "markdown",
   "id": "f830eb1d",
   "metadata": {},
   "source": [
    "# Dictionaries"
   ]
  },
  {
   "cell_type": "code",
   "execution_count": 161,
   "id": "e016ec87",
   "metadata": {},
   "outputs": [],
   "source": [
    "dic = {\n",
    "    'Burger':300,'Pizza':200,'Fries':150,'Momos':160}"
   ]
  },
  {
   "cell_type": "code",
   "execution_count": 162,
   "id": "5d20042f",
   "metadata": {},
   "outputs": [
    {
     "data": {
      "text/plain": [
       "dict"
      ]
     },
     "execution_count": 162,
     "metadata": {},
     "output_type": "execute_result"
    }
   ],
   "source": [
    "type(dic)"
   ]
  },
  {
   "cell_type": "code",
   "execution_count": 163,
   "id": "ce8d2bd3",
   "metadata": {},
   "outputs": [
    {
     "data": {
      "text/plain": [
       "300"
      ]
     },
     "execution_count": 163,
     "metadata": {},
     "output_type": "execute_result"
    }
   ],
   "source": [
    "dic['Burger']"
   ]
  },
  {
   "cell_type": "code",
   "execution_count": 164,
   "id": "4e6f5403",
   "metadata": {},
   "outputs": [],
   "source": [
    "dic_list = [('Burger',300),('Pizza',200),('Fries',150),('Momos',160)]"
   ]
  },
  {
   "cell_type": "code",
   "execution_count": 165,
   "id": "68ee6e15",
   "metadata": {},
   "outputs": [
    {
     "name": "stdout",
     "output_type": "stream",
     "text": [
      "Enter the item to know the price: Burger\n",
      "300\n"
     ]
    }
   ],
   "source": [
    "item = input('Enter the item to know the price: ')\n",
    "for ele in dic_list:\n",
    "    if(ele[0]==item):\n",
    "        print(ele[1])"
   ]
  },
  {
   "cell_type": "code",
   "execution_count": 166,
   "id": "52438679",
   "metadata": {},
   "outputs": [
    {
     "name": "stdout",
     "output_type": "stream",
     "text": [
      "Enter the item to know the price: Burger\n",
      "300\n"
     ]
    }
   ],
   "source": [
    "item = input('Enter the item to know the price: ')\n",
    "print(dic[item])"
   ]
  },
  {
   "cell_type": "code",
   "execution_count": 167,
   "id": "c6645e98",
   "metadata": {},
   "outputs": [
    {
     "data": {
      "text/plain": [
       "dict_keys(['Burger', 'Pizza', 'Fries', 'Momos'])"
      ]
     },
     "execution_count": 167,
     "metadata": {},
     "output_type": "execute_result"
    }
   ],
   "source": [
    "dic.keys()"
   ]
  },
  {
   "cell_type": "code",
   "execution_count": 168,
   "id": "825df8f8",
   "metadata": {},
   "outputs": [
    {
     "data": {
      "text/plain": [
       "dict_values([300, 200, 150, 160])"
      ]
     },
     "execution_count": 168,
     "metadata": {},
     "output_type": "execute_result"
    }
   ],
   "source": [
    "dic.values()"
   ]
  },
  {
   "cell_type": "code",
   "execution_count": 169,
   "id": "10c57d0f",
   "metadata": {},
   "outputs": [],
   "source": [
    "dic['ice_tea']=100"
   ]
  },
  {
   "cell_type": "code",
   "execution_count": 170,
   "id": "a8bcc61d",
   "metadata": {},
   "outputs": [
    {
     "name": "stdout",
     "output_type": "stream",
     "text": [
      "{'Burger': 300, 'Pizza': 200, 'Fries': 150, 'Momos': 160, 'ice_tea': 100}\n"
     ]
    }
   ],
   "source": [
    "print(dic)"
   ]
  },
  {
   "cell_type": "code",
   "execution_count": 172,
   "id": "c5f510b0",
   "metadata": {},
   "outputs": [
    {
     "data": {
      "text/plain": [
       "300"
      ]
     },
     "execution_count": 172,
     "metadata": {},
     "output_type": "execute_result"
    }
   ],
   "source": [
    "dic['Burger']"
   ]
  },
  {
   "cell_type": "code",
   "execution_count": null,
   "id": "ac0efe5b",
   "metadata": {},
   "outputs": [],
   "source": []
  }
 ],
 "metadata": {
  "kernelspec": {
   "display_name": "Python 3 (ipykernel)",
   "language": "python",
   "name": "python3"
  },
  "language_info": {
   "codemirror_mode": {
    "name": "ipython",
    "version": 3
   },
   "file_extension": ".py",
   "mimetype": "text/x-python",
   "name": "python",
   "nbconvert_exporter": "python",
   "pygments_lexer": "ipython3",
   "version": "3.9.12"
  }
 },
 "nbformat": 4,
 "nbformat_minor": 5
}
