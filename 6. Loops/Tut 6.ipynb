{
 "cells": [
  {
   "cell_type": "markdown",
   "id": "88c8114b",
   "metadata": {},
   "source": [
    "# Tut 6\n"
   ]
  },
  {
   "cell_type": "markdown",
   "id": "43d24bfe",
   "metadata": {},
   "source": [
    "# Or Operator\n"
   ]
  },
  {
   "cell_type": "code",
   "execution_count": 4,
   "id": "119311df",
   "metadata": {},
   "outputs": [
    {
     "data": {
      "text/plain": [
       "True"
      ]
     },
     "execution_count": 4,
     "metadata": {},
     "output_type": "execute_result"
    }
   ],
   "source": [
    "4>5 or 6>5"
   ]
  },
  {
   "attachments": {},
   "cell_type": "markdown",
   "id": "6e3e6452",
   "metadata": {},
   "source": [
    "# Loops\n",
    "- while loop\n",
    "- for loop\n",
    "<img src=\"gif-09.gif\" width=\"320\" height=\"240\" />"
   ]
  },
  {
   "cell_type": "markdown",
   "id": "f65a85a3",
   "metadata": {},
   "source": [
    "# While Loop"
   ]
  },
  {
   "cell_type": "code",
   "execution_count": 5,
   "id": "467bb59d",
   "metadata": {},
   "outputs": [
    {
     "name": "stdout",
     "output_type": "stream",
     "text": [
      "1\n",
      "2\n",
      "3\n",
      "4\n",
      "5\n",
      "6\n",
      "7\n",
      "8\n",
      "9\n",
      "10\n"
     ]
    }
   ],
   "source": [
    "print(1)\n",
    "print(2)\n",
    "print(3)\n",
    "print(4)\n",
    "print(5)\n",
    "print(6)\n",
    "print(7)\n",
    "print(8)\n",
    "print(9)\n",
    "print(10)"
   ]
  },
  {
   "cell_type": "code",
   "execution_count": 8,
   "id": "7e9a35ee",
   "metadata": {
    "scrolled": false
   },
   "outputs": [
    {
     "name": "stdout",
     "output_type": "stream",
     "text": [
      "1\n",
      "2\n",
      "3\n",
      "4\n",
      "5\n",
      "6\n",
      "7\n",
      "8\n",
      "9\n",
      "10\n",
      "11\n",
      "12\n",
      "13\n",
      "14\n",
      "15\n",
      "16\n",
      "17\n",
      "18\n",
      "19\n",
      "20\n",
      "numbers 1 to 20 are printed\n"
     ]
    }
   ],
   "source": [
    "# printing numbers 1 to 20 \n",
    "i=1\n",
    "while i<=20:\n",
    "    print(i)\n",
    "    i+=1\n",
    "print('numbers 1 to 20 are printed')"
   ]
  },
  {
   "cell_type": "code",
   "execution_count": 9,
   "id": "ede53845",
   "metadata": {},
   "outputs": [
    {
     "name": "stdout",
     "output_type": "stream",
     "text": [
      "2\n",
      "4\n",
      "6\n",
      "8\n",
      "10\n",
      "12\n",
      "14\n",
      "16\n",
      "18\n",
      "20\n",
      "Task done\n"
     ]
    }
   ],
   "source": [
    "# print even number from 1 to 20\n",
    "\n",
    "i =1\n",
    "while i<=20:\n",
    "    if i%2==0:\n",
    "        print(i)\n",
    "    else:\n",
    "        pass\n",
    "    i+=1\n",
    "print('Task done')"
   ]
  },
  {
   "cell_type": "markdown",
   "id": "7aae02c4",
   "metadata": {},
   "source": [
    "# For Loop\n",
    "- for in loop\n"
   ]
  },
  {
   "cell_type": "code",
   "execution_count": 10,
   "id": "dd7a012e",
   "metadata": {},
   "outputs": [
    {
     "name": "stdout",
     "output_type": "stream",
     "text": [
      "1\n",
      "2\n",
      "3\n",
      "4\n",
      "5\n",
      "6\n",
      "7\n",
      "8\n",
      "9\n",
      "10\n"
     ]
    }
   ],
   "source": [
    "for i in range(1,11):\n",
    "    print(i)"
   ]
  },
  {
   "cell_type": "code",
   "execution_count": 11,
   "id": "05bbe893",
   "metadata": {},
   "outputs": [
    {
     "name": "stdout",
     "output_type": "stream",
     "text": [
      "2\n",
      "4\n",
      "6\n",
      "8\n",
      "10\n",
      "12\n",
      "14\n",
      "16\n",
      "18\n",
      "20\n"
     ]
    }
   ],
   "source": [
    "for i in range(1,21):\n",
    "    if i%2==0:\n",
    "        print(i)\n",
    "    else:\n",
    "        pass"
   ]
  },
  {
   "cell_type": "markdown",
   "id": "91d19b30",
   "metadata": {},
   "source": [
    "# Break Continue "
   ]
  },
  {
   "cell_type": "code",
   "execution_count": 12,
   "id": "bc9c023d",
   "metadata": {},
   "outputs": [
    {
     "name": "stdout",
     "output_type": "stream",
     "text": [
      "1\n",
      "2\n",
      "3\n",
      "4\n",
      "5\n",
      "6\n",
      "8\n",
      "9\n",
      "10\n",
      "11\n",
      "12\n",
      "13\n",
      "14\n",
      "15\n",
      "16\n",
      "17\n",
      "18\n",
      "19\n",
      "20\n"
     ]
    }
   ],
   "source": [
    "for i in range(1,21):\n",
    "    if i==7:\n",
    "        pass\n",
    "    else: \n",
    "        print(i)"
   ]
  },
  {
   "cell_type": "code",
   "execution_count": 13,
   "id": "ef338fb9",
   "metadata": {},
   "outputs": [
    {
     "name": "stdout",
     "output_type": "stream",
     "text": [
      "1\n",
      "2\n",
      "3\n",
      "4\n",
      "5\n",
      "6\n",
      "8\n",
      "9\n",
      "10\n",
      "11\n",
      "12\n",
      "13\n",
      "14\n",
      "15\n",
      "16\n",
      "17\n",
      "18\n",
      "19\n",
      "20\n"
     ]
    }
   ],
   "source": [
    "for i in range(1,21):\n",
    "    if i==7:\n",
    "        continue\n",
    "    print(i)"
   ]
  },
  {
   "cell_type": "code",
   "execution_count": 16,
   "id": "1aed0e2f",
   "metadata": {},
   "outputs": [
    {
     "name": "stdout",
     "output_type": "stream",
     "text": [
      "1\n",
      "2\n",
      "3\n",
      "4\n",
      "5\n",
      "6\n",
      "8\n",
      "9\n",
      "10\n",
      "11\n",
      "12\n",
      "13\n",
      "14\n",
      "15\n",
      "16\n",
      "17\n",
      "18\n",
      "19\n",
      "20\n"
     ]
    }
   ],
   "source": [
    "i =1\n",
    "while i<=20:\n",
    "    if i==7:\n",
    "        i+=1\n",
    "        continue\n",
    "    print(i)\n",
    "    i+=1"
   ]
  },
  {
   "cell_type": "code",
   "execution_count": 27,
   "id": "247fc5ea",
   "metadata": {},
   "outputs": [
    {
     "name": "stdout",
     "output_type": "stream",
     "text": [
      "20\n",
      "45\n"
     ]
    }
   ],
   "source": [
    "a=[20,45,7,6,3,4,83,69,62,33,36,45]\n",
    "\n",
    "for i in a:\n",
    "    if i%7==0:\n",
    "        break\n",
    "    print(i)\n",
    "\n"
   ]
  },
  {
   "cell_type": "code",
   "execution_count": 39,
   "id": "f8052c60",
   "metadata": {},
   "outputs": [
    {
     "name": "stdout",
     "output_type": "stream",
     "text": [
      "Enter the number: 5\n",
      "Number is a Prime number\n"
     ]
    }
   ],
   "source": [
    "# check if the number is prime or not \n",
    "\n",
    "number = int(input('Enter the number: '))\n",
    "\n",
    "i = 2\n",
    "isPrime = True\n",
    "while i<number:\n",
    "    if number%i==0:\n",
    "        print('Number is not a Prime number')\n",
    "        isPrime = False\n",
    "        break\n",
    "    i+=1\n",
    "if isPrime:\n",
    "    print('Number is a Prime number')\n",
    "    "
   ]
  },
  {
   "cell_type": "markdown",
   "id": "fbb93209",
   "metadata": {},
   "source": [
    "# Exercise"
   ]
  },
  {
   "cell_type": "code",
   "execution_count": 41,
   "id": "b3b72475",
   "metadata": {},
   "outputs": [
    {
     "name": "stdout",
     "output_type": "stream",
     "text": [
      "Enter the number: 9\n"
     ]
    }
   ],
   "source": [
    "# solve the above example using for in loop \n",
    "\n",
    "number = int(input('Enter the number: '))\n",
    "\n",
    "    \n",
    "    "
   ]
  },
  {
   "cell_type": "code",
   "execution_count": null,
   "id": "4b45ab75",
   "metadata": {},
   "outputs": [],
   "source": []
  },
  {
   "cell_type": "code",
   "execution_count": null,
   "id": "a30f930c",
   "metadata": {},
   "outputs": [],
   "source": []
  },
  {
   "cell_type": "code",
   "execution_count": 44,
   "id": "31a78713",
   "metadata": {},
   "outputs": [
    {
     "name": "stdout",
     "output_type": "stream",
     "text": [
      "Enter the number to calculate factorial: 5\n",
      "120\n"
     ]
    }
   ],
   "source": [
    "#example 2\n",
    "# find the factorial of number less than 10\n",
    "\n",
    "number = int(input('Enter the number to calculate factorial: '))\n",
    "ans=1\n",
    "for i in range(1,number+1):\n",
    "    ans*=i\n",
    "print(ans)"
   ]
  },
  {
   "cell_type": "code",
   "execution_count": null,
   "id": "b25a6e47",
   "metadata": {},
   "outputs": [],
   "source": []
  },
  {
   "cell_type": "markdown",
   "id": "01ce0d75",
   "metadata": {},
   "source": [
    "# Exercise to Practice"
   ]
  },
  {
   "cell_type": "code",
   "execution_count": null,
   "id": "7a0845c5",
   "metadata": {},
   "outputs": [],
   "source": [
    "# you are given a number N , you have to print sum of all digits of N\n",
    "# for eg N=3429, you output should be 3+4+2+9 = 18\n",
    "# use while/for loop only \n",
    "# Store you answer in variable ans\n",
    "# the below code is written for you and solution to the code will be provided to people who comment their doubts in comment \n",
    " \n",
    "N = int(input('Enter the number: '))\n",
    "\n",
    "print('Sum of all the digits of the number {} is {}'.format(N,ans))"
   ]
  },
  {
   "cell_type": "code",
   "execution_count": null,
   "id": "dd09a21d",
   "metadata": {},
   "outputs": [],
   "source": []
  },
  {
   "cell_type": "code",
   "execution_count": null,
   "id": "ffe96458",
   "metadata": {},
   "outputs": [],
   "source": [
    "#calculate sum of numbers from 1 to 200, i.e calculate 1+2+3....+200 using loops\n",
    "#store you answer in ans varible\n",
    "\n",
    "print('The sum of number 1 to 200 is {}'.format(ans))"
   ]
  },
  {
   "cell_type": "code",
   "execution_count": null,
   "id": "420dfedd",
   "metadata": {},
   "outputs": [],
   "source": []
  },
  {
   "cell_type": "code",
   "execution_count": null,
   "id": "ea73e406",
   "metadata": {},
   "outputs": [],
   "source": [
    "#print all the prime numbers from 1 to 100 using loops\n",
    "# hint:- you have to use loop inside of loop "
   ]
  }
 ],
 "metadata": {
  "kernelspec": {
   "display_name": "Python 3 (ipykernel)",
   "language": "python",
   "name": "python3"
  },
  "language_info": {
   "codemirror_mode": {
    "name": "ipython",
    "version": 3
   },
   "file_extension": ".py",
   "mimetype": "text/x-python",
   "name": "python",
   "nbconvert_exporter": "python",
   "pygments_lexer": "ipython3",
   "version": "3.9.12"
  }
 },
 "nbformat": 4,
 "nbformat_minor": 5
}
