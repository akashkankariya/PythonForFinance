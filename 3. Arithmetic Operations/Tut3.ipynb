{
 "cells": [
  {
   "cell_type": "markdown",
   "id": "831b86c4",
   "metadata": {},
   "source": [
    "# Tut 3"
   ]
  },
  {
   "cell_type": "markdown",
   "id": "622dbe88",
   "metadata": {},
   "source": [
    "# Operators \n",
    "- Arethmatic\n",
    "- Boolean "
   ]
  },
  {
   "cell_type": "code",
   "execution_count": 1,
   "id": "35943270",
   "metadata": {},
   "outputs": [],
   "source": [
    "a= 7\n",
    "b=3"
   ]
  },
  {
   "cell_type": "code",
   "execution_count": 3,
   "id": "50cf605c",
   "metadata": {},
   "outputs": [
    {
     "name": "stdout",
     "output_type": "stream",
     "text": [
      "10\n",
      "4\n",
      "21\n",
      "2.3333333333333335\n",
      "2\n",
      "343\n"
     ]
    }
   ],
   "source": [
    "#addition\n",
    "print(a+b)\n",
    "#subtraction\n",
    "print(a-b)\n",
    "#multiplication\n",
    "print(a*b)\n",
    "#division\n",
    "print(a/b)\n",
    "#integer division\n",
    "print(a//b)\n",
    "#power\n",
    "print(7**3)"
   ]
  },
  {
   "cell_type": "markdown",
   "id": "6149daf1",
   "metadata": {},
   "source": [
    "Boolean operators"
   ]
  },
  {
   "cell_type": "code",
   "execution_count": 4,
   "id": "437503eb",
   "metadata": {},
   "outputs": [],
   "source": [
    "a = 100\n",
    "b=69"
   ]
  },
  {
   "cell_type": "code",
   "execution_count": 5,
   "id": "cf635341",
   "metadata": {},
   "outputs": [
    {
     "name": "stdout",
     "output_type": "stream",
     "text": [
      "True\n"
     ]
    }
   ],
   "source": [
    "print(a>b) # greater than operator"
   ]
  },
  {
   "cell_type": "code",
   "execution_count": 6,
   "id": "7b6d2500",
   "metadata": {},
   "outputs": [
    {
     "name": "stdout",
     "output_type": "stream",
     "text": [
      "False\n"
     ]
    }
   ],
   "source": [
    "print(a<b) # less than orperator"
   ]
  },
  {
   "cell_type": "code",
   "execution_count": 7,
   "id": "602d5a72",
   "metadata": {},
   "outputs": [
    {
     "name": "stdout",
     "output_type": "stream",
     "text": [
      "False\n"
     ]
    }
   ],
   "source": [
    "print(a==b) # is equal to operator"
   ]
  },
  {
   "cell_type": "code",
   "execution_count": 15,
   "id": "5cd187bb",
   "metadata": {},
   "outputs": [],
   "source": [
    "a = 100\n",
    "b = 100"
   ]
  },
  {
   "cell_type": "code",
   "execution_count": 18,
   "id": "97a5a862",
   "metadata": {
    "scrolled": false
   },
   "outputs": [
    {
     "name": "stdout",
     "output_type": "stream",
     "text": [
      "True\n"
     ]
    }
   ],
   "source": [
    "print((a==b))"
   ]
  },
  {
   "cell_type": "code",
   "execution_count": 13,
   "id": "f14f7486",
   "metadata": {},
   "outputs": [],
   "source": [
    "a=100\n",
    "b =69"
   ]
  },
  {
   "cell_type": "code",
   "execution_count": 14,
   "id": "d03b6658",
   "metadata": {},
   "outputs": [
    {
     "name": "stdout",
     "output_type": "stream",
     "text": [
      "True\n"
     ]
    }
   ],
   "source": [
    "print(a!=b) # is not equal to operator \n",
    "# note ! is a not operator "
   ]
  },
  {
   "cell_type": "code",
   "execution_count": null,
   "id": "795bb9be",
   "metadata": {},
   "outputs": [],
   "source": [
    "# increment "
   ]
  },
  {
   "cell_type": "code",
   "execution_count": 19,
   "id": "42e74a64",
   "metadata": {},
   "outputs": [],
   "source": [
    "a = 68"
   ]
  },
  {
   "cell_type": "code",
   "execution_count": 20,
   "id": "cd49f144",
   "metadata": {},
   "outputs": [],
   "source": [
    "a= a+ 1"
   ]
  },
  {
   "cell_type": "code",
   "execution_count": 21,
   "id": "b8c24248",
   "metadata": {},
   "outputs": [
    {
     "name": "stdout",
     "output_type": "stream",
     "text": [
      "69\n"
     ]
    }
   ],
   "source": [
    "print(a)"
   ]
  },
  {
   "cell_type": "code",
   "execution_count": 22,
   "id": "d9d289bb",
   "metadata": {},
   "outputs": [
    {
     "name": "stdout",
     "output_type": "stream",
     "text": [
      "70\n"
     ]
    }
   ],
   "source": [
    "print(a+1)"
   ]
  },
  {
   "cell_type": "code",
   "execution_count": 23,
   "id": "7dc8995d",
   "metadata": {},
   "outputs": [],
   "source": [
    "a =68"
   ]
  },
  {
   "cell_type": "code",
   "execution_count": 24,
   "id": "99de08b2",
   "metadata": {},
   "outputs": [],
   "source": [
    "a +=1"
   ]
  },
  {
   "cell_type": "code",
   "execution_count": 25,
   "id": "40a292de",
   "metadata": {},
   "outputs": [
    {
     "name": "stdout",
     "output_type": "stream",
     "text": [
      "69\n"
     ]
    }
   ],
   "source": [
    "print(a)"
   ]
  },
  {
   "cell_type": "code",
   "execution_count": 27,
   "id": "5bf15abc",
   "metadata": {},
   "outputs": [],
   "source": [
    "a = 34.5"
   ]
  },
  {
   "cell_type": "code",
   "execution_count": 28,
   "id": "a0161e91",
   "metadata": {},
   "outputs": [],
   "source": [
    "a*=2 # a =a*2"
   ]
  },
  {
   "cell_type": "code",
   "execution_count": 29,
   "id": "e3a2b698",
   "metadata": {},
   "outputs": [
    {
     "name": "stdout",
     "output_type": "stream",
     "text": [
      "69.0\n"
     ]
    }
   ],
   "source": [
    "print(a)"
   ]
  },
  {
   "cell_type": "code",
   "execution_count": null,
   "id": "29c215fc",
   "metadata": {},
   "outputs": [],
   "source": [
    "# in \n",
    "# is \n",
    "# is not "
   ]
  },
  {
   "cell_type": "code",
   "execution_count": 30,
   "id": "bbd00688",
   "metadata": {},
   "outputs": [],
   "source": [
    "message = 'Hello Good morning everyone'"
   ]
  },
  {
   "cell_type": "code",
   "execution_count": 31,
   "id": "fabb86e3",
   "metadata": {},
   "outputs": [
    {
     "data": {
      "text/plain": [
       "True"
      ]
     },
     "execution_count": 31,
     "metadata": {},
     "output_type": "execute_result"
    }
   ],
   "source": [
    "'Good' in message"
   ]
  },
  {
   "cell_type": "code",
   "execution_count": 32,
   "id": "a8f0b2f2",
   "metadata": {},
   "outputs": [
    {
     "data": {
      "text/plain": [
       "True"
      ]
     },
     "execution_count": 32,
     "metadata": {},
     "output_type": "execute_result"
    }
   ],
   "source": [
    "'oo' in message"
   ]
  },
  {
   "cell_type": "code",
   "execution_count": 33,
   "id": "244df537",
   "metadata": {},
   "outputs": [
    {
     "data": {
      "text/plain": [
       "True"
      ]
     },
     "execution_count": 33,
     "metadata": {},
     "output_type": "execute_result"
    }
   ],
   "source": [
    "' G' in message"
   ]
  },
  {
   "cell_type": "code",
   "execution_count": 34,
   "id": "8169c1fb",
   "metadata": {},
   "outputs": [
    {
     "data": {
      "text/plain": [
       "True"
      ]
     },
     "execution_count": 34,
     "metadata": {},
     "output_type": "execute_result"
    }
   ],
   "source": [
    "'ning' in message"
   ]
  },
  {
   "cell_type": "code",
   "execution_count": 35,
   "id": "62aec38f",
   "metadata": {},
   "outputs": [
    {
     "data": {
      "text/plain": [
       "True"
      ]
     },
     "execution_count": 35,
     "metadata": {},
     "output_type": "execute_result"
    }
   ],
   "source": [
    "'ood mor' in message"
   ]
  }
 ],
 "metadata": {
  "kernelspec": {
   "display_name": "Python 3 (ipykernel)",
   "language": "python",
   "name": "python3"
  },
  "language_info": {
   "codemirror_mode": {
    "name": "ipython",
    "version": 3
   },
   "file_extension": ".py",
   "mimetype": "text/x-python",
   "name": "python",
   "nbconvert_exporter": "python",
   "pygments_lexer": "ipython3",
   "version": "3.9.12"
  }
 },
 "nbformat": 4,
 "nbformat_minor": 5
}
