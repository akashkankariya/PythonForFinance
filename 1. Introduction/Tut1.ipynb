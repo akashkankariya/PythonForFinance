{
 "cells": [
  {
   "cell_type": "markdown",
   "id": "1f9f60e7",
   "metadata": {},
   "source": [
    "# Hello This is Tut1\n",
    "- Overview of Jupyter Notebook\n",
    "- First Python Code"
   ]
  },
  {
   "cell_type": "code",
   "execution_count": 1,
   "id": "11d1ce6f",
   "metadata": {},
   "outputs": [
    {
     "name": "stdout",
     "output_type": "stream",
     "text": [
      "Hello World\n"
     ]
    }
   ],
   "source": [
    "# hello this is a comment line in code cell\n",
    "# This is my second line in code cell which is not a python code\n",
    "print('Hello World')"
   ]
  },
  {
   "cell_type": "markdown",
   "id": "bb387c27",
   "metadata": {},
   "source": [
    "# Tut2"
   ]
  },
  {
   "cell_type": "markdown",
   "id": "8ac06101",
   "metadata": {},
   "source": [
    "# Print "
   ]
  },
  {
   "cell_type": "code",
   "execution_count": 3,
   "id": "413c5f80",
   "metadata": {},
   "outputs": [
    {
     "name": "stdout",
     "output_type": "stream",
     "text": [
      "Parth\n"
     ]
    }
   ],
   "source": [
    "print('Parth')"
   ]
  },
  {
   "cell_type": "code",
   "execution_count": 5,
   "id": "996758c8",
   "metadata": {},
   "outputs": [
    {
     "name": "stdout",
     "output_type": "stream",
     "text": [
      "23\n",
      "this is a python cell block\n"
     ]
    }
   ],
   "source": [
    "print(23)\n",
    "print('this is a python cell block')"
   ]
  },
  {
   "cell_type": "code",
   "execution_count": 6,
   "id": "0bd3c2c8",
   "metadata": {},
   "outputs": [
    {
     "name": "stdout",
     "output_type": "stream",
     "text": [
      "Hello my age is  454\n"
     ]
    }
   ],
   "source": [
    "#multiple parameter to print\n",
    "print('Hello my age is ',454)"
   ]
  },
  {
   "cell_type": "markdown",
   "id": "291125c9",
   "metadata": {},
   "source": [
    "# Variables\n",
    "- placeholder / containers\n",
    "\n",
    "# Identifiers\n",
    "- name given to variables/functions/class"
   ]
  },
  {
   "cell_type": "code",
   "execution_count": 7,
   "id": "9385304d",
   "metadata": {},
   "outputs": [],
   "source": [
    "age = 46"
   ]
  },
  {
   "cell_type": "code",
   "execution_count": 9,
   "id": "53867de1",
   "metadata": {},
   "outputs": [
    {
     "name": "stdout",
     "output_type": "stream",
     "text": [
      "46\n"
     ]
    }
   ],
   "source": [
    "print(age)"
   ]
  },
  {
   "cell_type": "code",
   "execution_count": 11,
   "id": "41ec3643",
   "metadata": {},
   "outputs": [
    {
     "ename": "SyntaxError",
     "evalue": "invalid syntax (1626616438.py, line 1)",
     "output_type": "error",
     "traceback": [
      "\u001b[1;36m  Input \u001b[1;32mIn [11]\u001b[1;36m\u001b[0m\n\u001b[1;33m    1abc='Hello '\u001b[0m\n\u001b[1;37m     ^\u001b[0m\n\u001b[1;31mSyntaxError\u001b[0m\u001b[1;31m:\u001b[0m invalid syntax\n"
     ]
    }
   ],
   "source": [
    "1abc='Hello '"
   ]
  },
  {
   "cell_type": "code",
   "execution_count": 12,
   "id": "cd0e6547",
   "metadata": {},
   "outputs": [],
   "source": [
    "abc1='Hello'"
   ]
  },
  {
   "cell_type": "code",
   "execution_count": 13,
   "id": "901915c8",
   "metadata": {},
   "outputs": [
    {
     "name": "stdout",
     "output_type": "stream",
     "text": [
      "Hello\n"
     ]
    }
   ],
   "source": [
    "print(abc1)"
   ]
  },
  {
   "cell_type": "code",
   "execution_count": 14,
   "id": "315d3e43",
   "metadata": {},
   "outputs": [],
   "source": [
    "age = 49\n",
    "name = 'Parth'\n",
    "role = 'CEO'\n"
   ]
  },
  {
   "cell_type": "code",
   "execution_count": 15,
   "id": "9e6e22d0",
   "metadata": {},
   "outputs": [
    {
     "name": "stdout",
     "output_type": "stream",
     "text": [
      "Parth 49 CEO\n"
     ]
    }
   ],
   "source": [
    "print(name,age,role)"
   ]
  },
  {
   "cell_type": "markdown",
   "id": "f2afa526",
   "metadata": {},
   "source": [
    "# Exercise\n",
    "- print your name"
   ]
  },
  {
   "cell_type": "code",
   "execution_count": null,
   "id": "18532def",
   "metadata": {},
   "outputs": [],
   "source": [
    "#write a code here to print your name age and Hobby"
   ]
  },
  {
   "cell_type": "code",
   "execution_count": null,
   "id": "377ee03d",
   "metadata": {},
   "outputs": [],
   "source": []
  },
  {
   "cell_type": "code",
   "execution_count": null,
   "id": "3b638cbe",
   "metadata": {},
   "outputs": [],
   "source": []
  },
  {
   "cell_type": "markdown",
   "id": "dfc4e72c",
   "metadata": {},
   "source": [
    "# Basic Data Types\n",
    "- int\n",
    "- float\n",
    "- string\n",
    "- Boolean\n",
    "- None\n",
    "\n"
   ]
  },
  {
   "cell_type": "code",
   "execution_count": 16,
   "id": "0628cc7c",
   "metadata": {},
   "outputs": [
    {
     "name": "stdout",
     "output_type": "stream",
     "text": [
      "9\n"
     ]
    }
   ],
   "source": [
    "#int \n",
    "x= 9\n",
    "print(x)"
   ]
  },
  {
   "cell_type": "code",
   "execution_count": 18,
   "id": "2f109eb9",
   "metadata": {},
   "outputs": [
    {
     "name": "stdout",
     "output_type": "stream",
     "text": [
      "<class 'int'>\n"
     ]
    }
   ],
   "source": [
    "print(type(x))"
   ]
  },
  {
   "cell_type": "code",
   "execution_count": 19,
   "id": "5c3bdcf7",
   "metadata": {},
   "outputs": [],
   "source": [
    "x = 'Parth'"
   ]
  },
  {
   "cell_type": "code",
   "execution_count": 20,
   "id": "18dc51b9",
   "metadata": {},
   "outputs": [
    {
     "name": "stdout",
     "output_type": "stream",
     "text": [
      "Parth\n",
      "<class 'str'>\n"
     ]
    }
   ],
   "source": [
    "print(x)\n",
    "print(type(x))"
   ]
  },
  {
   "cell_type": "code",
   "execution_count": 22,
   "id": "fcc1d48d",
   "metadata": {},
   "outputs": [
    {
     "name": "stdout",
     "output_type": "stream",
     "text": [
      "9 9\n",
      "<class 'str'> <class 'int'>\n"
     ]
    }
   ],
   "source": [
    "x = '9'\n",
    "y = 9\n",
    "print(x,y)\n",
    "print(type(x),type(y))"
   ]
  },
  {
   "cell_type": "code",
   "execution_count": 24,
   "id": "67ef9385",
   "metadata": {},
   "outputs": [
    {
     "name": "stdout",
     "output_type": "stream",
     "text": [
      "9.5\n",
      "<class 'float'>\n"
     ]
    }
   ],
   "source": [
    "x=9.5\n",
    "print(x)\n",
    "print(type(x))"
   ]
  },
  {
   "cell_type": "code",
   "execution_count": 25,
   "id": "33311497",
   "metadata": {},
   "outputs": [
    {
     "name": "stdout",
     "output_type": "stream",
     "text": [
      "True\n",
      "<class 'bool'>\n"
     ]
    }
   ],
   "source": [
    "x = True\n",
    "print(x)\n",
    "print(type(x))"
   ]
  },
  {
   "cell_type": "code",
   "execution_count": 26,
   "id": "f9d61aa1",
   "metadata": {},
   "outputs": [
    {
     "name": "stdout",
     "output_type": "stream",
     "text": [
      "None\n",
      "<class 'NoneType'>\n"
     ]
    }
   ],
   "source": [
    "x = None\n",
    "print(x)\n",
    "print(type(x))"
   ]
  },
  {
   "cell_type": "markdown",
   "id": "f769af24",
   "metadata": {},
   "source": [
    "# Input"
   ]
  },
  {
   "cell_type": "code",
   "execution_count": 27,
   "id": "d7cbb78b",
   "metadata": {},
   "outputs": [
    {
     "name": "stdout",
     "output_type": "stream",
     "text": [
      "Enter something: Parth\n",
      "Parth\n"
     ]
    }
   ],
   "source": [
    "x = input('Enter something: ')\n",
    "print(x)"
   ]
  },
  {
   "cell_type": "code",
   "execution_count": 28,
   "id": "0ed1f5fe",
   "metadata": {},
   "outputs": [
    {
     "name": "stdout",
     "output_type": "stream",
     "text": [
      "Enter your name: Bhavesh\n"
     ]
    }
   ],
   "source": [
    "name = input('Enter your name: ')"
   ]
  },
  {
   "cell_type": "code",
   "execution_count": 30,
   "id": "c14f89dd",
   "metadata": {},
   "outputs": [
    {
     "name": "stdout",
     "output_type": "stream",
     "text": [
      "<class 'str'>\n"
     ]
    }
   ],
   "source": [
    "print(type(name))"
   ]
  },
  {
   "cell_type": "code",
   "execution_count": 35,
   "id": "9b640cfa",
   "metadata": {},
   "outputs": [
    {
     "name": "stdout",
     "output_type": "stream",
     "text": [
      "Enter your age: 50\n",
      "True\n",
      "<class 'bool'>\n"
     ]
    }
   ],
   "source": [
    "age = bool(input('Enter your age: '))#typecasting variables\n",
    "print(age)\n",
    "print(type(age))"
   ]
  },
  {
   "cell_type": "code",
   "execution_count": 38,
   "id": "ae6ef794",
   "metadata": {},
   "outputs": [
    {
     "name": "stdout",
     "output_type": "stream",
     "text": [
      "True False\n"
     ]
    }
   ],
   "source": [
    "age ='value'\n",
    "number = None\n",
    "print(bool(age),bool(number))"
   ]
  },
  {
   "cell_type": "markdown",
   "id": "c9ba97fe",
   "metadata": {},
   "source": [
    "# Output formatting"
   ]
  },
  {
   "cell_type": "code",
   "execution_count": 41,
   "id": "e2ae59ae",
   "metadata": {},
   "outputs": [],
   "source": [
    "name = 'Par'\n",
    "age = 200\n",
    "role = 'role'"
   ]
  },
  {
   "cell_type": "code",
   "execution_count": 42,
   "id": "eefa2e4f",
   "metadata": {},
   "outputs": [
    {
     "name": "stdout",
     "output_type": "stream",
     "text": [
      "My name is Par. My age is 200. My role in the company is role\n"
     ]
    }
   ],
   "source": [
    "print('My name is {}. My age is {}. My role in the company is {}'.format(name,age,role))"
   ]
  },
  {
   "cell_type": "markdown",
   "id": "1c408844",
   "metadata": {},
   "source": [
    "# Exercise"
   ]
  },
  {
   "cell_type": "code",
   "execution_count": 43,
   "id": "da98f2d3",
   "metadata": {},
   "outputs": [],
   "source": [
    "# write a code to print your name age and type of name and age \n"
   ]
  },
  {
   "cell_type": "code",
   "execution_count": null,
   "id": "b82462d6",
   "metadata": {},
   "outputs": [],
   "source": [
    "#write your code here "
   ]
  }
 ],
 "metadata": {
  "kernelspec": {
   "display_name": "Python 3 (ipykernel)",
   "language": "python",
   "name": "python3"
  },
  "language_info": {
   "codemirror_mode": {
    "name": "ipython",
    "version": 3
   },
   "file_extension": ".py",
   "mimetype": "text/x-python",
   "name": "python",
   "nbconvert_exporter": "python",
   "pygments_lexer": "ipython3",
   "version": "3.9.12"
  }
 },
 "nbformat": 4,
 "nbformat_minor": 5
}
